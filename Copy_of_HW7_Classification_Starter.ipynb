{
  "cells": [
    {
      "cell_type": "markdown",
      "metadata": {
        "id": "view-in-github",
        "colab_type": "text"
      },
      "source": [
        "<a href=\"https://colab.research.google.com/github/sohanchatterjee/ISE-490/blob/main/Copy_of_HW7_Classification_Starter.ipynb\" target=\"_parent\"><img src=\"https://colab.research.google.com/assets/colab-badge.svg\" alt=\"Open In Colab\"/></a>"
      ]
    },
    {
      "cell_type": "markdown",
      "metadata": {
        "collapsed": false,
        "jupyter": {
          "outputs_hidden": false
        },
        "id": "NO0qRLF320F-"
      },
      "source": [
        "**Put your name and student ID here.**\n",
        "\n",
        "Sohan Chatterjee\n",
        "\n",
        "20006064"
      ]
    },
    {
      "cell_type": "markdown",
      "metadata": {
        "collapsed": false,
        "jupyter": {
          "outputs_hidden": false
        },
        "id": "qEzAOclC20GA"
      },
      "source": [
        "**HW7-EM/SYS 490**\n",
        "\n",
        "**Homework - Classification**"
      ]
    },
    {
      "cell_type": "markdown",
      "source": [
        "Use what you've learned in Classification to analyze the dataset from `wine_quality.csv`.\n",
        "\n",
        "This file contains multiple attributes of wine, such as \"fixed acidity,\" \"volatile acidity,\" \"citric acid,\" \"residual sugar,\" \"chlorides,\" \"free sulfur dioxide,\" \"total sulfur dioxide,\" \"density,\" \"pH,\" \"sulphates,\" \"alcohol,\" and \"quality.\"\n",
        "\n",
        "We aim to study the relationship between the wine's \"Quality\" and the other 11 attributes. The quality of the wine has only two possible values, \"A\" and \"B.\" We will use the stochastic gradient descent (SGD) method (`sklearn.linear_model.SGDClassifier`) to analyze this relationship.\n",
        "\n",
        "Here are the tasks:"
      ],
      "metadata": {
        "id": "Ok-0gy503dSX"
      }
    },
    {
      "cell_type": "code",
      "source": [
        "# Mount your drive\n",
        "from google.colab import drive\n",
        "drive.mount('/content/drive')"
      ],
      "metadata": {
        "colab": {
          "base_uri": "https://localhost:8080/"
        },
        "id": "EVSM1Zyw54-_",
        "outputId": "79a9b9c6-208a-4323-ba03-0d97cfe2698d"
      },
      "execution_count": null,
      "outputs": [
        {
          "output_type": "stream",
          "name": "stdout",
          "text": [
            "Mounted at /content/drive\n"
          ]
        }
      ]
    },
    {
      "cell_type": "code",
      "source": [
        "# Change current directory\n",
        "%cd /content/drive/My\\ Drive/Colab\\ Notebooks"
      ],
      "metadata": {
        "id": "_s25227R55rS",
        "colab": {
          "base_uri": "https://localhost:8080/"
        },
        "outputId": "1705d835-5914-44c3-992c-8d7abb981acf"
      },
      "execution_count": null,
      "outputs": [
        {
          "output_type": "stream",
          "name": "stdout",
          "text": [
            "/content/drive/My Drive/Colab Notebooks\n"
          ]
        }
      ]
    },
    {
      "cell_type": "code",
      "source": [
        "# Verify the current directory\n",
        "%pwd"
      ],
      "metadata": {
        "colab": {
          "base_uri": "https://localhost:8080/",
          "height": 36
        },
        "id": "aDik8CnJ57nX",
        "outputId": "fb46fa2a-72e6-48ee-deb7-f5edc58e1f8b"
      },
      "execution_count": null,
      "outputs": [
        {
          "output_type": "execute_result",
          "data": {
            "text/plain": [
              "'/content/drive/My Drive/Colab Notebooks'"
            ],
            "application/vnd.google.colaboratory.intrinsic+json": {
              "type": "string"
            }
          },
          "metadata": {},
          "execution_count": 4
        }
      ]
    },
    {
      "cell_type": "code",
      "source": [
        "# Verify the current directory\n",
        "%ls"
      ],
      "metadata": {
        "colab": {
          "base_uri": "https://localhost:8080/"
        },
        "id": "cyLaHL0-59Uk",
        "outputId": "7b6f65e1-180c-4c61-f4bf-32074601b0e7"
      },
      "execution_count": null,
      "outputs": [
        {
          "output_type": "stream",
          "name": "stdout",
          "text": [
            "'Copy of Convert ipynb to HTML in Colab.ipynb'\n",
            "'Copy of EM490- HW2_RegularExpression_Starter.ipynb'\n",
            "'Copy of EM490- HW3_NumPy_Starter.ipynb'\n",
            "'Copy of EM490-HW4_Pandas_Starter.ipynb'\n",
            "'Copy of EM490 HW6_Machine_Learning_Landscape_Starter.ipynb'\n",
            "'Copy of HW7_Classification_Starter.ipynb'\n",
            "'Copy of PythonBasics_Starter.ipynb'\n",
            " EmissionsData.csv\n",
            " ISE490-HW1_PythonBasics_Starter.ipynb\n",
            " lifesat.csv\n",
            " population_vs_day.csv\n",
            " wine_quality.csv\n"
          ]
        }
      ]
    },
    {
      "cell_type": "markdown",
      "source": [
        "## Q1. (0.5 points)"
      ],
      "metadata": {
        "id": "5ZDgRi0o6RXX"
      }
    },
    {
      "cell_type": "markdown",
      "source": [
        "Load the data from `wine_quality.csv` as a DataFrame."
      ],
      "metadata": {
        "id": "IQMT29rS6UMX"
      }
    },
    {
      "cell_type": "markdown",
      "source": [
        "<div>\n",
        "<style scoped=\"\">\n",
        "    .dataframe tbody tr th:only-of-type {\n",
        "        vertical-align: middle;\n",
        "    }\n",
        "\n",
        "    .dataframe tbody tr th {\n",
        "        vertical-align: top;\n",
        "    }\n",
        "\n",
        "    .dataframe thead th {\n",
        "        text-align: right;\n",
        "    }\n",
        "</style>\n",
        "<table border=\"1\" class=\"dataframe\">\n",
        "  <thead>\n",
        "    <tr style=\"text-align: right;\">\n",
        "      <th></th>\n",
        "      <th>fixed acidity</th>\n",
        "      <th>volatile acidity</th>\n",
        "      <th>citric acid</th>\n",
        "      <th>residual sugar</th>\n",
        "      <th>chlorides</th>\n",
        "      <th>free sulfur dioxide</th>\n",
        "      <th>total sulfur dioxide</th>\n",
        "      <th>density</th>\n",
        "      <th>pH</th>\n",
        "      <th>sulphates</th>\n",
        "      <th>alcohol</th>\n",
        "      <th>quality</th>\n",
        "    </tr>\n",
        "  </thead>\n",
        "  <tbody>\n",
        "    <tr>\n",
        "      <th>0</th>\n",
        "      <td>7.4</td>\n",
        "      <td>0.700</td>\n",
        "      <td>0.00</td>\n",
        "      <td>1.9</td>\n",
        "      <td>0.076</td>\n",
        "      <td>11.0</td>\n",
        "      <td>34.0</td>\n",
        "      <td>0.99780</td>\n",
        "      <td>3.51</td>\n",
        "      <td>0.56</td>\n",
        "      <td>9.4</td>\n",
        "      <td>B</td>\n",
        "    </tr>\n",
        "    <tr>\n",
        "      <th>1</th>\n",
        "      <td>7.8</td>\n",
        "      <td>0.880</td>\n",
        "      <td>0.00</td>\n",
        "      <td>2.6</td>\n",
        "      <td>0.098</td>\n",
        "      <td>25.0</td>\n",
        "      <td>67.0</td>\n",
        "      <td>0.99680</td>\n",
        "      <td>3.20</td>\n",
        "      <td>0.68</td>\n",
        "      <td>9.8</td>\n",
        "      <td>B</td>\n",
        "    </tr>\n",
        "    <tr>\n",
        "      <th>2</th>\n",
        "      <td>7.8</td>\n",
        "      <td>0.760</td>\n",
        "      <td>0.04</td>\n",
        "      <td>2.3</td>\n",
        "      <td>0.092</td>\n",
        "      <td>15.0</td>\n",
        "      <td>54.0</td>\n",
        "      <td>0.99700</td>\n",
        "      <td>3.26</td>\n",
        "      <td>0.65</td>\n",
        "      <td>9.8</td>\n",
        "      <td>B</td>\n",
        "    </tr>\n",
        "    <tr>\n",
        "      <th>3</th>\n",
        "      <td>11.2</td>\n",
        "      <td>0.280</td>\n",
        "      <td>0.56</td>\n",
        "      <td>1.9</td>\n",
        "      <td>0.075</td>\n",
        "      <td>17.0</td>\n",
        "      <td>60.0</td>\n",
        "      <td>0.99800</td>\n",
        "      <td>3.16</td>\n",
        "      <td>0.58</td>\n",
        "      <td>9.8</td>\n",
        "      <td>A</td>\n",
        "    </tr>\n",
        "    <tr>\n",
        "      <th>4</th>\n",
        "      <td>7.4</td>\n",
        "      <td>0.700</td>\n",
        "      <td>0.00</td>\n",
        "      <td>1.9</td>\n",
        "      <td>0.076</td>\n",
        "      <td>11.0</td>\n",
        "      <td>34.0</td>\n",
        "      <td>0.99780</td>\n",
        "      <td>3.51</td>\n",
        "      <td>0.56</td>\n",
        "      <td>9.4</td>\n",
        "      <td>B</td>\n",
        "    </tr>\n",
        "    <tr>\n",
        "      <th>...</th>\n",
        "      <td>...</td>\n",
        "      <td>...</td>\n",
        "      <td>...</td>\n",
        "      <td>...</td>\n",
        "      <td>...</td>\n",
        "      <td>...</td>\n",
        "      <td>...</td>\n",
        "      <td>...</td>\n",
        "      <td>...</td>\n",
        "      <td>...</td>\n",
        "      <td>...</td>\n",
        "      <td>...</td>\n",
        "    </tr>\n",
        "    <tr>\n",
        "      <th>1594</th>\n",
        "      <td>6.2</td>\n",
        "      <td>0.600</td>\n",
        "      <td>0.08</td>\n",
        "      <td>2.0</td>\n",
        "      <td>0.090</td>\n",
        "      <td>32.0</td>\n",
        "      <td>44.0</td>\n",
        "      <td>0.99490</td>\n",
        "      <td>3.45</td>\n",
        "      <td>0.58</td>\n",
        "      <td>10.5</td>\n",
        "      <td>B</td>\n",
        "    </tr>\n",
        "    <tr>\n",
        "      <th>1595</th>\n",
        "      <td>5.9</td>\n",
        "      <td>0.550</td>\n",
        "      <td>0.10</td>\n",
        "      <td>2.2</td>\n",
        "      <td>0.062</td>\n",
        "      <td>39.0</td>\n",
        "      <td>51.0</td>\n",
        "      <td>0.99512</td>\n",
        "      <td>3.52</td>\n",
        "      <td>0.76</td>\n",
        "      <td>11.2</td>\n",
        "      <td>A</td>\n",
        "    </tr>\n",
        "    <tr>\n",
        "      <th>1596</th>\n",
        "      <td>6.3</td>\n",
        "      <td>0.510</td>\n",
        "      <td>0.13</td>\n",
        "      <td>2.3</td>\n",
        "      <td>0.076</td>\n",
        "      <td>29.0</td>\n",
        "      <td>40.0</td>\n",
        "      <td>0.99574</td>\n",
        "      <td>3.42</td>\n",
        "      <td>0.75</td>\n",
        "      <td>11.0</td>\n",
        "      <td>A</td>\n",
        "    </tr>\n",
        "    <tr>\n",
        "      <th>1597</th>\n",
        "      <td>5.9</td>\n",
        "      <td>0.645</td>\n",
        "      <td>0.12</td>\n",
        "      <td>2.0</td>\n",
        "      <td>0.075</td>\n",
        "      <td>32.0</td>\n",
        "      <td>44.0</td>\n",
        "      <td>0.99547</td>\n",
        "      <td>3.57</td>\n",
        "      <td>0.71</td>\n",
        "      <td>10.2</td>\n",
        "      <td>B</td>\n",
        "    </tr>\n",
        "    <tr>\n",
        "      <th>1598</th>\n",
        "      <td>6.0</td>\n",
        "      <td>0.310</td>\n",
        "      <td>0.47</td>\n",
        "      <td>3.6</td>\n",
        "      <td>0.067</td>\n",
        "      <td>18.0</td>\n",
        "      <td>42.0</td>\n",
        "      <td>0.99549</td>\n",
        "      <td>3.39</td>\n",
        "      <td>0.66</td>\n",
        "      <td>11.0</td>\n",
        "      <td>A</td>\n",
        "    </tr>\n",
        "  </tbody>\n",
        "</table>\n",
        "<p>1599 rows × 12 columns</p>\n",
        "</div>"
      ],
      "metadata": {
        "id": "03Vlcyw1_aQg"
      }
    },
    {
      "cell_type": "code",
      "source": [
        "import pandas as pd\n",
        "\n",
        "df = pd.read_csv('wine_quality.csv')"
      ],
      "metadata": {
        "id": "Ywy2poEv-lyN"
      },
      "execution_count": null,
      "outputs": []
    },
    {
      "cell_type": "markdown",
      "source": [
        "## Q2. (1 point)"
      ],
      "metadata": {
        "id": "l7_3UGDE6Xcy"
      }
    },
    {
      "cell_type": "markdown",
      "source": [
        "Count the number of instances for each quality category, \"A\" and \"B.\" Visualize the counts using a bar chart with `value_counts()` and `plt.bar()`."
      ],
      "metadata": {
        "id": "_TT0pXmE6dOA"
      }
    },
    {
      "cell_type": "markdown",
      "source": [
        "<img  width=\"400\"  src='data:image/svg+xml;base64,PD94bWwgdmVyc2lvbj0iMS4wIiBlbmNvZGluZz0idXRmLTgiIHN0YW5kYWxvbmU9Im5vIj8+CjwhRE9DVFlQRSBzdmcgUFVCTElDICItLy9XM0MvL0RURCBTVkcgMS4xLy9FTiIKICAiaHR0cDovL3d3dy53My5vcmcvR3JhcGhpY3MvU1ZHLzEuMS9EVEQvc3ZnMTEuZHRkIj4KPHN2ZyB4bWxuczp4bGluaz0iaHR0cDovL3d3dy53My5vcmcvMTk5OS94bGluayIgd2lkdGg9IjIwOC42MDU2MjVwdCIgaGVpZ2h0PSIxOTguMTE2MjVwdCIgdmlld0JveD0iMCAwIDIwOC42MDU2MjUgMTk4LjExNjI1IiB4bWxucz0iaHR0cDovL3d3dy53My5vcmcvMjAwMC9zdmciIHZlcnNpb249IjEuMSI+CiA8bWV0YWRhdGE+CiAgPHJkZjpSREYgeG1sbnM6ZGM9Imh0dHA6Ly9wdXJsLm9yZy9kYy9lbGVtZW50cy8xLjEvIiB4bWxuczpjYz0iaHR0cDovL2NyZWF0aXZlY29tbW9ucy5vcmcvbnMjIiB4bWxuczpyZGY9Imh0dHA6Ly93d3cudzMub3JnLzE5OTkvMDIvMjItcmRmLXN5bnRheC1ucyMiPgogICA8Y2M6V29yaz4KICAgIDxkYzp0eXBlIHJkZjpyZXNvdXJjZT0iaHR0cDovL3B1cmwub3JnL2RjL2RjbWl0eXBlL1N0aWxsSW1hZ2UiLz4KICAgIDxkYzpkYXRlPjIwMjQtMTAtMjhUMjE6MTk6NTguMzM1OTgwPC9kYzpkYXRlPgogICAgPGRjOmZvcm1hdD5pbWFnZS9zdmcreG1sPC9kYzpmb3JtYXQ+CiAgICA8ZGM6Y3JlYXRvcj4KICAgICA8Y2M6QWdlbnQ+CiAgICAgIDxkYzp0aXRsZT5NYXRwbG90bGliIHYzLjcuMSwgaHR0cHM6Ly9tYXRwbG90bGliLm9yZy88L2RjOnRpdGxlPgogICAgIDwvY2M6QWdlbnQ+CiAgICA8L2RjOmNyZWF0b3I+CiAgIDwvY2M6V29yaz4KICA8L3JkZjpSREY+CiA8L21ldGFkYXRhPgogPGRlZnM+CiAgPHN0eWxlIHR5cGU9InRleHQvY3NzIj4qe3N0cm9rZS1saW5lam9pbjogcm91bmQ7IHN0cm9rZS1saW5lY2FwOiBidXR0fTwvc3R5bGU+CiA8L2RlZnM+CiA8ZyBpZD0iZmlndXJlXzEiPgogIDxnIGlkPSJwYXRjaF8xIj4KICAgPHBhdGggZD0iTSAwIDE5OC4xMTYyNSAKTCAyMDguNjA1NjI1IDE5OC4xMTYyNSAKTCAyMDguNjA1NjI1IDAgCkwgMCAwIAp6CiIgc3R5bGU9ImZpbGw6ICNmZmZmZmYiLz4KICA8L2c+CiAgPGcgaWQ9ImF4ZXNfMSI+CiAgIDxnIGlkPSJwYXRjaF8yIj4KICAgIDxwYXRoIGQ9Ik0gNDAuNDg1NjI1IDE2Ny4wNCAKTCAyMDcuODg1NjI1IDE2Ny4wNCAKTCAyMDcuODg1NjI1IDAuNzIgCkwgNDAuNDg1NjI1IDAuNzIgCnoKIiBzdHlsZT0iZmlsbDogI2ZmZmZmZiIvPgogICA8L2c+CiAgIDxnIGlkPSJwYXRjaF8zIj4KICAgIDxwYXRoIGQ9Ik0gNDguMDk0NzE2IDE2Ny4wNCAKTCAxMDUuMTYyODk4IDE2Ny4wNCAKTCAxMDUuMTYyODk4IDguNjQgCkwgNDguMDk0NzE2IDguNjQgCnoKIiBjbGlwLXBhdGg9InVybCgjcGFmZDc5OTA2NzQpIiBzdHlsZT0iZmlsbDogIzFmNzdiNCIvPgogICA8L2c+CiAgIDxnIGlkPSJwYXRjaF80Ij4KICAgIDxwYXRoIGQ9Ik0gMTQzLjIwODM1MiAxNjcuMDQgCkwgMjAwLjI3NjUzNCAxNjcuMDQgCkwgMjAwLjI3NjUzNCAyOS4yMDQyMTEgCkwgMTQzLjIwODM1MiAyOS4yMDQyMTEgCnoKIiBjbGlwLXBhdGg9InVybCgjcGFmZDc5OTA2NzQpIiBzdHlsZT0iZmlsbDogIzFmNzdiNCIvPgogICA8L2c+CiAgIDxnIGlkPSJtYXRwbG90bGliLmF4aXNfMSI+CiAgICA8ZyBpZD0ieHRpY2tfMSI+CiAgICAgPGcgaWQ9ImxpbmUyZF8xIj4KICAgICAgPGRlZnM+CiAgICAgICA8cGF0aCBpZD0ibWYzZWVhMjMwYTkiIGQ9Ik0gMCAwIApMIDAgMy41IAoiIHN0eWxlPSJzdHJva2U6ICMwMDAwMDA7IHN0cm9rZS13aWR0aDogMC44Ii8+CiAgICAgIDwvZGVmcz4KICAgICAgPGc+CiAgICAgICA8dXNlIHhsaW5rOmhyZWY9IiNtZjNlZWEyMzBhOSIgeD0iNzYuNjI4ODA3IiB5PSIxNjcuMDQiIHN0eWxlPSJzdHJva2U6ICMwMDAwMDA7IHN0cm9rZS13aWR0aDogMC44Ii8+CiAgICAgIDwvZz4KICAgICA8L2c+CiAgICAgPGcgaWQ9InRleHRfMSI+CiAgICAgIDwhLS0gQSAtLT4KICAgICAgPGcgdHJhbnNmb3JtPSJ0cmFuc2xhdGUoNzMuMjA4NDk0IDE4MS42Mzg0MzcpIHNjYWxlKDAuMSAtMC4xKSI+CiAgICAgICA8ZGVmcz4KICAgICAgICA8cGF0aCBpZD0iRGVqYVZ1U2Fucy00MSIgZD0iTSAyMTg4IDQwNDQgCkwgMTMzMSAxNzIyIApMIDMwNDcgMTcyMiAKTCAyMTg4IDQwNDQgCnoKTSAxODMxIDQ2NjYgCkwgMjU0NyA0NjY2IApMIDQzMjUgMCAKTCAzNjY5IDAgCkwgMzI0NCAxMTk3IApMIDExNDEgMTE5NyAKTCA3MTYgMCAKTCA1MCAwIApMIDE4MzEgNDY2NiAKegoiIHRyYW5zZm9ybT0ic2NhbGUoMC4wMTU2MjUpIi8+CiAgICAgICA8L2RlZnM+CiAgICAgICA8dXNlIHhsaW5rOmhyZWY9IiNEZWphVnVTYW5zLTQxIi8+CiAgICAgIDwvZz4KICAgICA8L2c+CiAgICA8L2c+CiAgICA8ZyBpZD0ieHRpY2tfMiI+CiAgICAgPGcgaWQ9ImxpbmUyZF8yIj4KICAgICAgPGc+CiAgICAgICA8dXNlIHhsaW5rOmhyZWY9IiNtZjNlZWEyMzBhOSIgeD0iMTcxLjc0MjQ0MyIgeT0iMTY3LjA0IiBzdHlsZT0ic3Ryb2tlOiAjMDAwMDAwOyBzdHJva2Utd2lkdGg6IDAuOCIvPgogICAgICA8L2c+CiAgICAgPC9nPgogICAgIDxnIGlkPSJ0ZXh0XzIiPgogICAgICA8IS0tIEIgLS0+CiAgICAgIDxnIHRyYW5zZm9ybT0idHJhbnNsYXRlKDE2OC4zMTE5NzQgMTgxLjYzODQzNykgc2NhbGUoMC4xIC0wLjEpIj4KICAgICAgIDxkZWZzPgogICAgICAgIDxwYXRoIGlkPSJEZWphVnVTYW5zLTQyIiBkPSJNIDEyNTkgMjIyOCAKTCAxMjU5IDUxOSAKTCAyMjcyIDUxOSAKUSAyNzgxIDUxOSAzMDI2IDczMCAKUSAzMjcyIDk0MSAzMjcyIDEzNzUgClEgMzI3MiAxODEzIDMwMjYgMjAyMCAKUSAyNzgxIDIyMjggMjI3MiAyMjI4IApMIDEyNTkgMjIyOCAKegpNIDEyNTkgNDE0NyAKTCAxMjU5IDI3NDEgCkwgMjE5NCAyNzQxIApRIDI2NTYgMjc0MSAyODgyIDI5MTQgClEgMzEwOSAzMDg4IDMxMDkgMzQ0NCAKUSAzMTA5IDM3OTcgMjg4MiAzOTcyIApRIDI2NTYgNDE0NyAyMTk0IDQxNDcgCkwgMTI1OSA0MTQ3IAp6Ck0gNjI4IDQ2NjYgCkwgMjI0MSA0NjY2IApRIDI5NjMgNDY2NiAzMzUzIDQzNjYgClEgMzc0NCA0MDY2IDM3NDQgMzUxMyAKUSAzNzQ0IDMwODQgMzU0NCAyODMxIApRIDMzNDQgMjU3OCAyOTU2IDI1MTYgClEgMzQyMiAyNDE2IDM2ODAgMjA5OCAKUSAzOTM4IDE3ODEgMzkzOCAxMzA2IApRIDM5MzggNjgxIDM1MTMgMzQwIApRIDMwODggMCAyMzAzIDAgCkwgNjI4IDAgCkwgNjI4IDQ2NjYgCnoKIiB0cmFuc2Zvcm09InNjYWxlKDAuMDE1NjI1KSIvPgogICAgICAgPC9kZWZzPgogICAgICAgPHVzZSB4bGluazpocmVmPSIjRGVqYVZ1U2Fucy00MiIvPgogICAgICA8L2c+CiAgICAgPC9nPgogICAgPC9nPgogICAgPGcgaWQ9InRleHRfMyI+CiAgICAgPCEtLSBRdWFsaXR5IC0tPgogICAgIDxnIHRyYW5zZm9ybT0idHJhbnNsYXRlKDEwNi4zMTkyMTkgMTk1LjMxNjU2Mikgc2NhbGUoMC4xIC0wLjEpIj4KICAgICAgPGRlZnM+CiAgICAgICA8cGF0aCBpZD0iRGVqYVZ1U2Fucy01MSIgZD0iTSAyNTIyIDQyMzggClEgMTgzNCA0MjM4IDE0MjkgMzcyNSAKUSAxMDI1IDMyMTMgMTAyNSAyMzI4IApRIDEwMjUgMTQ0NyAxNDI5IDkzNCAKUSAxODM0IDQyMiAyNTIyIDQyMiAKUSAzMjA5IDQyMiAzNjExIDkzNCAKUSA0MDEzIDE0NDcgNDAxMyAyMzI4IApRIDQwMTMgMzIxMyAzNjExIDM3MjUgClEgMzIwOSA0MjM4IDI1MjIgNDIzOCAKegpNIDM0MDYgODQgCkwgNDIzOCAtODI1IApMIDM0NzUgLTgyNSAKTCAyNzg0IC03OCAKUSAyNjgxIC04NCAyNjI2IC04NyAKUSAyNTcyIC05MSAyNTIyIC05MSAKUSAxNTM4IC05MSA5NDggNTY3IApRIDM1OSAxMjI1IDM1OSAyMzI4IApRIDM1OSAzNDM0IDk0OCA0MDkyIApRIDE1MzggNDc1MCAyNTIyIDQ3NTAgClEgMzUwMyA0NzUwIDQwOTAgNDA5MiAKUSA0Njc4IDM0MzQgNDY3OCAyMzI4IApRIDQ2NzggMTUxNiA0MzUxIDkzNyAKUSA0MDI1IDM1OSAzNDA2IDg0IAp6CiIgdHJhbnNmb3JtPSJzY2FsZSgwLjAxNTYyNSkiLz4KICAgICAgIDxwYXRoIGlkPSJEZWphVnVTYW5zLTc1IiBkPSJNIDU0NCAxMzgxIApMIDU0NCAzNTAwIApMIDExMTkgMzUwMCAKTCAxMTE5IDE0MDMgClEgMTExOSA5MDYgMTMxMiA2NTcgClEgMTUwNiA0MDkgMTg5NCA0MDkgClEgMjM1OSA0MDkgMjYyOSA3MDYgClEgMjkwMCAxMDAzIDI5MDAgMTUxNiAKTCAyOTAwIDM1MDAgCkwgMzQ3NSAzNTAwIApMIDM0NzUgMCAKTCAyOTAwIDAgCkwgMjkwMCA1MzggClEgMjY5MSAyMTkgMjQxNCA2NCAKUSAyMTM4IC05MSAxNzcyIC05MSAKUSAxMTY5IC05MSA4NTYgMjg0IApRIDU0NCA2NTkgNTQ0IDEzODEgCnoKTSAxOTkxIDM1ODQgCkwgMTk5MSAzNTg0IAp6CiIgdHJhbnNmb3JtPSJzY2FsZSgwLjAxNTYyNSkiLz4KICAgICAgIDxwYXRoIGlkPSJEZWphVnVTYW5zLTYxIiBkPSJNIDIxOTQgMTc1OSAKUSAxNDk3IDE3NTkgMTIyOCAxNjAwIApRIDk1OSAxNDQxIDk1OSAxMDU2IApRIDk1OSA3NTAgMTE2MSA1NzAgClEgMTM2MyAzOTEgMTcwOSAzOTEgClEgMjE4OCAzOTEgMjQ3NyA3MzAgClEgMjc2NiAxMDY5IDI3NjYgMTYzMSAKTCAyNzY2IDE3NTkgCkwgMjE5NCAxNzU5IAp6Ck0gMzM0MSAxOTk3IApMIDMzNDEgMCAKTCAyNzY2IDAgCkwgMjc2NiA1MzEgClEgMjU2OSAyMTMgMjI3NSA2MSAKUSAxOTgxIC05MSAxNTU2IC05MSAKUSAxMDE5IC05MSA3MDEgMjExIApRIDM4NCA1MTMgMzg0IDEwMTkgClEgMzg0IDE2MDkgNzc5IDE5MDkgClEgMTE3NSAyMjA5IDE5NTkgMjIwOSAKTCAyNzY2IDIyMDkgCkwgMjc2NiAyMjY2IApRIDI3NjYgMjY2MyAyNTA1IDI4ODAgClEgMjI0NCAzMDk3IDE3NzIgMzA5NyAKUSAxNDcyIDMwOTcgMTE4NyAzMDI1IApRIDkwMyAyOTUzIDY0MSAyODA5IApMIDY0MSAzMzQxIApRIDk1NiAzNDYzIDEyNTMgMzUyMyAKUSAxNTUwIDM1ODQgMTgzMSAzNTg0IApRIDI1OTEgMzU4NCAyOTY2IDMxOTAgClEgMzM0MSAyNzk3IDMzNDEgMTk5NyAKegoiIHRyYW5zZm9ybT0ic2NhbGUoMC4wMTU2MjUpIi8+CiAgICAgICA8cGF0aCBpZD0iRGVqYVZ1U2Fucy02YyIgZD0iTSA2MDMgNDg2MyAKTCAxMTc4IDQ4NjMgCkwgMTE3OCAwIApMIDYwMyAwIApMIDYwMyA0ODYzIAp6CiIgdHJhbnNmb3JtPSJzY2FsZSgwLjAxNTYyNSkiLz4KICAgICAgIDxwYXRoIGlkPSJEZWphVnVTYW5zLTY5IiBkPSJNIDYwMyAzNTAwIApMIDExNzggMzUwMCAKTCAxMTc4IDAgCkwgNjAzIDAgCkwgNjAzIDM1MDAgCnoKTSA2MDMgNDg2MyAKTCAxMTc4IDQ4NjMgCkwgMTE3OCA0MTM0IApMIDYwMyA0MTM0IApMIDYwMyA0ODYzIAp6CiIgdHJhbnNmb3JtPSJzY2FsZSgwLjAxNTYyNSkiLz4KICAgICAgIDxwYXRoIGlkPSJEZWphVnVTYW5zLTc0IiBkPSJNIDExNzIgNDQ5NCAKTCAxMTcyIDM1MDAgCkwgMjM1NiAzNTAwIApMIDIzNTYgMzA1MyAKTCAxMTcyIDMwNTMgCkwgMTE3MiAxMTUzIApRIDExNzIgNzI1IDEyODkgNjAzIApRIDE0MDYgNDgxIDE3NjYgNDgxIApMIDIzNTYgNDgxIApMIDIzNTYgMCAKTCAxNzY2IDAgClEgMTEwMCAwIDg0NyAyNDggClEgNTk0IDQ5NyA1OTQgMTE1MyAKTCA1OTQgMzA1MyAKTCAxNzIgMzA1MyAKTCAxNzIgMzUwMCAKTCA1OTQgMzUwMCAKTCA1OTQgNDQ5NCAKTCAxMTcyIDQ0OTQgCnoKIiB0cmFuc2Zvcm09InNjYWxlKDAuMDE1NjI1KSIvPgogICAgICAgPHBhdGggaWQ9IkRlamFWdVNhbnMtNzkiIGQ9Ik0gMjA1OSAtMzI1IApRIDE4MTYgLTk1MCAxNTg0IC0xMTQwIApRIDEzNTMgLTEzMzEgOTY2IC0xMzMxIApMIDUwNiAtMTMzMSAKTCA1MDYgLTg1MCAKTCA4NDQgLTg1MCAKUSAxMDgxIC04NTAgMTIxMiAtNzM3IApRIDEzNDQgLTYyNSAxNTAzIC0yMDYgCkwgMTYwNiA1NiAKTCAxOTEgMzUwMCAKTCA4MDAgMzUwMCAKTCAxODk0IDc2MyAKTCAyOTg4IDM1MDAgCkwgMzU5NyAzNTAwIApMIDIwNTkgLTMyNSAKegoiIHRyYW5zZm9ybT0ic2NhbGUoMC4wMTU2MjUpIi8+CiAgICAgIDwvZGVmcz4KICAgICAgPHVzZSB4bGluazpocmVmPSIjRGVqYVZ1U2Fucy01MSIvPgogICAgICA8dXNlIHhsaW5rOmhyZWY9IiNEZWphVnVTYW5zLTc1IiB4PSI3OC43MTA5MzgiLz4KICAgICAgPHVzZSB4bGluazpocmVmPSIjRGVqYVZ1U2Fucy02MSIgeD0iMTQyLjA4OTg0NCIvPgogICAgICA8dXNlIHhsaW5rOmhyZWY9IiNEZWphVnVTYW5zLTZjIiB4PSIyMDMuMzY5MTQxIi8+CiAgICAgIDx1c2UgeGxpbms6aHJlZj0iI0RlamFWdVNhbnMtNjkiIHg9IjIzMS4xNTIzNDQiLz4KICAgICAgPHVzZSB4bGluazpocmVmPSIjRGVqYVZ1U2Fucy03NCIgeD0iMjU4LjkzNTU0NyIvPgogICAgICA8dXNlIHhsaW5rOmhyZWY9IiNEZWphVnVTYW5zLTc5IiB4PSIyOTguMTQ0NTMxIi8+CiAgICAgPC9nPgogICAgPC9nPgogICA8L2c+CiAgIDxnIGlkPSJtYXRwbG90bGliLmF4aXNfMiI+CiAgICA8ZyBpZD0ieXRpY2tfMSI+CiAgICAgPGcgaWQ9ImxpbmUyZF8zIj4KICAgICAgPGRlZnM+CiAgICAgICA8cGF0aCBpZD0ibTk0NDYzNTU4NmEiIGQ9Ik0gMCAwIApMIC0zLjUgMCAKIiBzdHlsZT0ic3Ryb2tlOiAjMDAwMDAwOyBzdHJva2Utd2lkdGg6IDAuOCIvPgogICAgICA8L2RlZnM+CiAgICAgIDxnPgogICAgICAgPHVzZSB4bGluazpocmVmPSIjbTk0NDYzNTU4NmEiIHg9IjQwLjQ4NTYyNSIgeT0iMTY3LjA0IiBzdHlsZT0ic3Ryb2tlOiAjMDAwMDAwOyBzdHJva2Utd2lkdGg6IDAuOCIvPgogICAgICA8L2c+CiAgICAgPC9nPgogICAgIDxnIGlkPSJ0ZXh0XzQiPgogICAgICA8IS0tIDAgLS0+CiAgICAgIDxnIHRyYW5zZm9ybT0idHJhbnNsYXRlKDI3LjEyMzEyNSAxNzAuODM5MjE5KSBzY2FsZSgwLjEgLTAuMSkiPgogICAgICAgPGRlZnM+CiAgICAgICAgPHBhdGggaWQ9IkRlamFWdVNhbnMtMzAiIGQ9Ik0gMjAzNCA0MjUwIApRIDE1NDcgNDI1MCAxMzAxIDM3NzAgClEgMTA1NiAzMjkxIDEwNTYgMjMyOCAKUSAxMDU2IDEzNjkgMTMwMSA4ODkgClEgMTU0NyA0MDkgMjAzNCA0MDkgClEgMjUyNSA0MDkgMjc3MCA4ODkgClEgMzAxNiAxMzY5IDMwMTYgMjMyOCAKUSAzMDE2IDMyOTEgMjc3MCAzNzcwIApRIDI1MjUgNDI1MCAyMDM0IDQyNTAgCnoKTSAyMDM0IDQ3NTAgClEgMjgxOSA0NzUwIDMyMzMgNDEyOSAKUSAzNjQ3IDM1MDkgMzY0NyAyMzI4IApRIDM2NDcgMTE1MCAzMjMzIDUyOSAKUSAyODE5IC05MSAyMDM0IC05MSAKUSAxMjUwIC05MSA4MzYgNTI5IApRIDQyMiAxMTUwIDQyMiAyMzI4IApRIDQyMiAzNTA5IDgzNiA0MTI5IApRIDEyNTAgNDc1MCAyMDM0IDQ3NTAgCnoKIiB0cmFuc2Zvcm09InNjYWxlKDAuMDE1NjI1KSIvPgogICAgICAgPC9kZWZzPgogICAgICAgPHVzZSB4bGluazpocmVmPSIjRGVqYVZ1U2Fucy0zMCIvPgogICAgICA8L2c+CiAgICAgPC9nPgogICAgPC9nPgogICAgPGcgaWQ9Inl0aWNrXzIiPgogICAgIDxnIGlkPSJsaW5lMmRfNCI+CiAgICAgIDxnPgogICAgICAgPHVzZSB4bGluazpocmVmPSIjbTk0NDYzNTU4NmEiIHg9IjQwLjQ4NTYyNSIgeT0iMTI5Ljk4NzM2OCIgc3R5bGU9InN0cm9rZTogIzAwMDAwMDsgc3Ryb2tlLXdpZHRoOiAwLjgiLz4KICAgICAgPC9nPgogICAgIDwvZz4KICAgICA8ZyBpZD0idGV4dF81Ij4KICAgICAgPCEtLSAyMDAgLS0+CiAgICAgIDxnIHRyYW5zZm9ybT0idHJhbnNsYXRlKDE0LjM5ODEyNSAxMzMuNzg2NTg3KSBzY2FsZSgwLjEgLTAuMSkiPgogICAgICAgPGRlZnM+CiAgICAgICAgPHBhdGggaWQ9IkRlamFWdVNhbnMtMzIiIGQ9Ik0gMTIyOCA1MzEgCkwgMzQzMSA1MzEgCkwgMzQzMSAwIApMIDQ2OSAwIApMIDQ2OSA1MzEgClEgODI4IDkwMyAxNDQ4IDE1MjkgClEgMjA2OSAyMTU2IDIyMjggMjMzOCAKUSAyNTMxIDI2NzggMjY1MSAyOTE0IApRIDI3NzIgMzE1MCAyNzcyIDMzNzggClEgMjc3MiAzNzUwIDI1MTEgMzk4NCAKUSAyMjUwIDQyMTkgMTgzMSA0MjE5IApRIDE1MzQgNDIxOSAxMjA0IDQxMTYgClEgODc1IDQwMTMgNTAwIDM4MDMgCkwgNTAwIDQ0NDEgClEgODgxIDQ1OTQgMTIxMiA0NjcyIApRIDE1NDQgNDc1MCAxODE5IDQ3NTAgClEgMjU0NCA0NzUwIDI5NzUgNDM4NyAKUSAzNDA2IDQwMjUgMzQwNiAzNDE5IApRIDM0MDYgMzEzMSAzMjk4IDI4NzMgClEgMzE5MSAyNjE2IDI5MDYgMjI2NiAKUSAyODI4IDIxNzUgMjQwOSAxNzQyIApRIDE5OTEgMTMwOSAxMjI4IDUzMSAKegoiIHRyYW5zZm9ybT0ic2NhbGUoMC4wMTU2MjUpIi8+CiAgICAgICA8L2RlZnM+CiAgICAgICA8dXNlIHhsaW5rOmhyZWY9IiNEZWphVnVTYW5zLTMyIi8+CiAgICAgICA8dXNlIHhsaW5rOmhyZWY9IiNEZWphVnVTYW5zLTMwIiB4PSI2My42MjMwNDciLz4KICAgICAgIDx1c2UgeGxpbms6aHJlZj0iI0RlamFWdVNhbnMtMzAiIHg9IjEyNy4yNDYwOTQiLz4KICAgICAgPC9nPgogICAgIDwvZz4KICAgIDwvZz4KICAgIDxnIGlkPSJ5dGlja18zIj4KICAgICA8ZyBpZD0ibGluZTJkXzUiPgogICAgICA8Zz4KICAgICAgIDx1c2UgeGxpbms6aHJlZj0iI205NDQ2MzU1ODZhIiB4PSI0MC40ODU2MjUiIHk9IjkyLjkzNDczNyIgc3R5bGU9InN0cm9rZTogIzAwMDAwMDsgc3Ryb2tlLXdpZHRoOiAwLjgiLz4KICAgICAgPC9nPgogICAgIDwvZz4KICAgICA8ZyBpZD0idGV4dF82Ij4KICAgICAgPCEtLSA0MDAgLS0+CiAgICAgIDxnIHRyYW5zZm9ybT0idHJhbnNsYXRlKDE0LjM5ODEyNSA5Ni43MzM5NTYpIHNjYWxlKDAuMSAtMC4xKSI+CiAgICAgICA8ZGVmcz4KICAgICAgICA8cGF0aCBpZD0iRGVqYVZ1U2Fucy0zNCIgZD0iTSAyNDE5IDQxMTYgCkwgODI1IDE2MjUgCkwgMjQxOSAxNjI1IApMIDI0MTkgNDExNiAKegpNIDIyNTMgNDY2NiAKTCAzMDQ3IDQ2NjYgCkwgMzA0NyAxNjI1IApMIDM3MTMgMTYyNSAKTCAzNzEzIDExMDAgCkwgMzA0NyAxMTAwIApMIDMwNDcgMCAKTCAyNDE5IDAgCkwgMjQxOSAxMTAwIApMIDMxMyAxMTAwIApMIDMxMyAxNzA5IApMIDIyNTMgNDY2NiAKegoiIHRyYW5zZm9ybT0ic2NhbGUoMC4wMTU2MjUpIi8+CiAgICAgICA8L2RlZnM+CiAgICAgICA8dXNlIHhsaW5rOmhyZWY9IiNEZWphVnVTYW5zLTM0Ii8+CiAgICAgICA8dXNlIHhsaW5rOmhyZWY9IiNEZWphVnVTYW5zLTMwIiB4PSI2My42MjMwNDciLz4KICAgICAgIDx1c2UgeGxpbms6aHJlZj0iI0RlamFWdVNhbnMtMzAiIHg9IjEyNy4yNDYwOTQiLz4KICAgICAgPC9nPgogICAgIDwvZz4KICAgIDwvZz4KICAgIDxnIGlkPSJ5dGlja180Ij4KICAgICA8ZyBpZD0ibGluZTJkXzYiPgogICAgICA8Zz4KICAgICAgIDx1c2UgeGxpbms6aHJlZj0iI205NDQ2MzU1ODZhIiB4PSI0MC40ODU2MjUiIHk9IjU1Ljg4MjEwNSIgc3R5bGU9InN0cm9rZTogIzAwMDAwMDsgc3Ryb2tlLXdpZHRoOiAwLjgiLz4KICAgICAgPC9nPgogICAgIDwvZz4KICAgICA8ZyBpZD0idGV4dF83Ij4KICAgICAgPCEtLSA2MDAgLS0+CiAgICAgIDxnIHRyYW5zZm9ybT0idHJhbnNsYXRlKDE0LjM5ODEyNSA1OS42ODEzMjQpIHNjYWxlKDAuMSAtMC4xKSI+CiAgICAgICA8ZGVmcz4KICAgICAgICA8cGF0aCBpZD0iRGVqYVZ1U2Fucy0zNiIgZD0iTSAyMTEzIDI1ODQgClEgMTY4OCAyNTg0IDE0MzkgMjI5MyAKUSAxMTkxIDIwMDMgMTE5MSAxNDk3IApRIDExOTEgOTk0IDE0MzkgNzAxIApRIDE2ODggNDA5IDIxMTMgNDA5IApRIDI1MzggNDA5IDI3ODYgNzAxIApRIDMwMzQgOTk0IDMwMzQgMTQ5NyAKUSAzMDM0IDIwMDMgMjc4NiAyMjkzIApRIDI1MzggMjU4NCAyMTEzIDI1ODQgCnoKTSAzMzY2IDQ1NjMgCkwgMzM2NiAzOTg4IApRIDMxMjggNDEwMCAyODg2IDQxNTkgClEgMjY0NCA0MjE5IDI0MDYgNDIxOSAKUSAxNzgxIDQyMTkgMTQ1MSAzNzk3IApRIDExMjIgMzM3NSAxMDc1IDI1MjIgClEgMTI1OSAyNzk0IDE1MzcgMjkzOSAKUSAxODE2IDMwODQgMjE1MCAzMDg0IApRIDI4NTMgMzA4NCAzMjYxIDI2NTcgClEgMzY2OSAyMjMxIDM2NjkgMTQ5NyAKUSAzNjY5IDc3OCAzMjQ0IDM0MyAKUSAyODE5IC05MSAyMTEzIC05MSAKUSAxMzAzIC05MSA4NzUgNTI5IApRIDQ0NyAxMTUwIDQ0NyAyMzI4IApRIDQ0NyAzNDM0IDk3MiA0MDkyIApRIDE0OTcgNDc1MCAyMzgxIDQ3NTAgClEgMjYxOSA0NzUwIDI4NjEgNDcwMyAKUSAzMTAzIDQ2NTYgMzM2NiA0NTYzIAp6CiIgdHJhbnNmb3JtPSJzY2FsZSgwLjAxNTYyNSkiLz4KICAgICAgIDwvZGVmcz4KICAgICAgIDx1c2UgeGxpbms6aHJlZj0iI0RlamFWdVNhbnMtMzYiLz4KICAgICAgIDx1c2UgeGxpbms6aHJlZj0iI0RlamFWdVNhbnMtMzAiIHg9IjYzLjYyMzA0NyIvPgogICAgICAgPHVzZSB4bGluazpocmVmPSIjRGVqYVZ1U2Fucy0zMCIgeD0iMTI3LjI0NjA5NCIvPgogICAgICA8L2c+CiAgICAgPC9nPgogICAgPC9nPgogICAgPGcgaWQ9Inl0aWNrXzUiPgogICAgIDxnIGlkPSJsaW5lMmRfNyI+CiAgICAgIDxnPgogICAgICAgPHVzZSB4bGluazpocmVmPSIjbTk0NDYzNTU4NmEiIHg9IjQwLjQ4NTYyNSIgeT0iMTguODI5NDc0IiBzdHlsZT0ic3Ryb2tlOiAjMDAwMDAwOyBzdHJva2Utd2lkdGg6IDAuOCIvPgogICAgICA8L2c+CiAgICAgPC9nPgogICAgIDxnIGlkPSJ0ZXh0XzgiPgogICAgICA8IS0tIDgwMCAtLT4KICAgICAgPGcgdHJhbnNmb3JtPSJ0cmFuc2xhdGUoMTQuMzk4MTI1IDIyLjYyODY5Mikgc2NhbGUoMC4xIC0wLjEpIj4KICAgICAgIDxkZWZzPgogICAgICAgIDxwYXRoIGlkPSJEZWphVnVTYW5zLTM4IiBkPSJNIDIwMzQgMjIxNiAKUSAxNTg0IDIyMTYgMTMyNiAxOTc1IApRIDEwNjkgMTczNCAxMDY5IDEzMTMgClEgMTA2OSA4OTEgMTMyNiA2NTAgClEgMTU4NCA0MDkgMjAzNCA0MDkgClEgMjQ4NCA0MDkgMjc0MyA2NTEgClEgMzAwMyA4OTQgMzAwMyAxMzEzIApRIDMwMDMgMTczNCAyNzQ1IDE5NzUgClEgMjQ4OCAyMjE2IDIwMzQgMjIxNiAKegpNIDE0MDMgMjQ4NCAKUSA5OTcgMjU4NCA3NzAgMjg2MiAKUSA1NDQgMzE0MSA1NDQgMzU0MSAKUSA1NDQgNDEwMCA5NDIgNDQyNSAKUSAxMzQxIDQ3NTAgMjAzNCA0NzUwIApRIDI3MzEgNDc1MCAzMTI4IDQ0MjUgClEgMzUyNSA0MTAwIDM1MjUgMzU0MSAKUSAzNTI1IDMxNDEgMzI5OCAyODYyIApRIDMwNzIgMjU4NCAyNjY5IDI0ODQgClEgMzEyNSAyMzc4IDMzNzkgMjA2OCAKUSAzNjM0IDE3NTkgMzYzNCAxMzEzIApRIDM2MzQgNjM0IDMyMjAgMjcxIApRIDI4MDYgLTkxIDIwMzQgLTkxIApRIDEyNjMgLTkxIDg0OCAyNzEgClEgNDM0IDYzNCA0MzQgMTMxMyAKUSA0MzQgMTc1OSA2OTAgMjA2OCAKUSA5NDcgMjM3OCAxNDAzIDI0ODQgCnoKTSAxMTcyIDM0ODEgClEgMTE3MiAzMTE5IDEzOTggMjkxNiAKUSAxNjI1IDI3MTMgMjAzNCAyNzEzIApRIDI0NDEgMjcxMyAyNjcwIDI5MTYgClEgMjkwMCAzMTE5IDI5MDAgMzQ4MSAKUSAyOTAwIDM4NDQgMjY3MCA0MDQ3IApRIDI0NDEgNDI1MCAyMDM0IDQyNTAgClEgMTYyNSA0MjUwIDEzOTggNDA0NyAKUSAxMTcyIDM4NDQgMTE3MiAzNDgxIAp6CiIgdHJhbnNmb3JtPSJzY2FsZSgwLjAxNTYyNSkiLz4KICAgICAgIDwvZGVmcz4KICAgICAgIDx1c2UgeGxpbms6aHJlZj0iI0RlamFWdVNhbnMtMzgiLz4KICAgICAgIDx1c2UgeGxpbms6aHJlZj0iI0RlamFWdVNhbnMtMzAiIHg9IjYzLjYyMzA0NyIvPgogICAgICAgPHVzZSB4bGluazpocmVmPSIjRGVqYVZ1U2Fucy0zMCIgeD0iMTI3LjI0NjA5NCIvPgogICAgICA8L2c+CiAgICAgPC9nPgogICAgPC9nPgogICAgPGcgaWQ9InRleHRfOSI+CiAgICAgPCEtLSBDb3VudHMgLS0+CiAgICAgPGcgdHJhbnNmb3JtPSJ0cmFuc2xhdGUoOC4zMTg0MzggMTAxLjMzMzEyNSkgcm90YXRlKC05MCkgc2NhbGUoMC4xIC0wLjEpIj4KICAgICAgPGRlZnM+CiAgICAgICA8cGF0aCBpZD0iRGVqYVZ1U2Fucy00MyIgZD0iTSA0MTIyIDQzMDYgCkwgNDEyMiAzNjQxIApRIDM4MDMgMzkzOCAzNDQyIDQwODQgClEgMzA4MSA0MjMxIDI2NzUgNDIzMSAKUSAxODc1IDQyMzEgMTQ1MCAzNzQyIApRIDEwMjUgMzI1MyAxMDI1IDIzMjggClEgMTAyNSAxNDA2IDE0NTAgOTE3IApRIDE4NzUgNDI4IDI2NzUgNDI4IApRIDMwODEgNDI4IDM0NDIgNTc1IApRIDM4MDMgNzIyIDQxMjIgMTAxOSAKTCA0MTIyIDM1OSAKUSAzNzkxIDEzNCAzNDIwIDIxIApRIDMwNTAgLTkxIDI2MzggLTkxIApRIDE1NzggLTkxIDk2OCA1NTcgClEgMzU5IDEyMDYgMzU5IDIzMjggClEgMzU5IDM0NTMgOTY4IDQxMDEgClEgMTU3OCA0NzUwIDI2MzggNDc1MCAKUSAzMDU2IDQ3NTAgMzQyNiA0NjM5IApRIDM3OTcgNDUyOCA0MTIyIDQzMDYgCnoKIiB0cmFuc2Zvcm09InNjYWxlKDAuMDE1NjI1KSIvPgogICAgICAgPHBhdGggaWQ9IkRlamFWdVNhbnMtNmYiIGQ9Ik0gMTk1OSAzMDk3IApRIDE0OTcgMzA5NyAxMjI4IDI3MzYgClEgOTU5IDIzNzUgOTU5IDE3NDcgClEgOTU5IDExMTkgMTIyNiA3NTggClEgMTQ5NCAzOTcgMTk1OSAzOTcgClEgMjQxOSAzOTcgMjY4NyA3NTkgClEgMjk1NiAxMTIyIDI5NTYgMTc0NyAKUSAyOTU2IDIzNjkgMjY4NyAyNzMzIApRIDI0MTkgMzA5NyAxOTU5IDMwOTcgCnoKTSAxOTU5IDM1ODQgClEgMjcwOSAzNTg0IDMxMzcgMzA5NiAKUSAzNTY2IDI2MDkgMzU2NiAxNzQ3IApRIDM1NjYgODg4IDMxMzcgMzk4IApRIDI3MDkgLTkxIDE5NTkgLTkxIApRIDEyMDYgLTkxIDc3OSAzOTggClEgMzUzIDg4OCAzNTMgMTc0NyAKUSAzNTMgMjYwOSA3NzkgMzA5NiAKUSAxMjA2IDM1ODQgMTk1OSAzNTg0IAp6CiIgdHJhbnNmb3JtPSJzY2FsZSgwLjAxNTYyNSkiLz4KICAgICAgIDxwYXRoIGlkPSJEZWphVnVTYW5zLTZlIiBkPSJNIDM1MTMgMjExMyAKTCAzNTEzIDAgCkwgMjkzOCAwIApMIDI5MzggMjA5NCAKUSAyOTM4IDI1OTEgMjc0NCAyODM3IApRIDI1NTAgMzA4NCAyMTYzIDMwODQgClEgMTY5NyAzMDg0IDE0MjggMjc4NyAKUSAxMTU5IDI0OTEgMTE1OSAxOTc4IApMIDExNTkgMCAKTCA1ODEgMCAKTCA1ODEgMzUwMCAKTCAxMTU5IDM1MDAgCkwgMTE1OSAyOTU2IApRIDEzNjYgMzI3MiAxNjQ1IDM0MjggClEgMTkyNSAzNTg0IDIyOTEgMzU4NCAKUSAyODk0IDM1ODQgMzIwMyAzMjExIApRIDM1MTMgMjgzOCAzNTEzIDIxMTMgCnoKIiB0cmFuc2Zvcm09InNjYWxlKDAuMDE1NjI1KSIvPgogICAgICAgPHBhdGggaWQ9IkRlamFWdVNhbnMtNzMiIGQ9Ik0gMjgzNCAzMzk3IApMIDI4MzQgMjg1MyAKUSAyNTkxIDI5NzggMjMyOCAzMDQwIApRIDIwNjYgMzEwMyAxNzg0IDMxMDMgClEgMTM1NiAzMTAzIDExNDIgMjk3MiAKUSA5MjggMjg0MSA5MjggMjU3OCAKUSA5MjggMjM3OCAxMDgxIDIyNjQgClEgMTIzNCAyMTUwIDE2OTcgMjA0NyAKTCAxODk0IDIwMDMgClEgMjUwNiAxODcyIDI3NjQgMTYzMyAKUSAzMDIyIDEzOTQgMzAyMiA5NjYgClEgMzAyMiA0NzggMjYzNiAxOTMgClEgMjI1MCAtOTEgMTU3NSAtOTEgClEgMTI5NCAtOTEgOTg5IC0zNiAKUSA2ODQgMTkgMzQ3IDEyOCAKTCAzNDcgNzIyIApRIDY2NiA1NTYgOTc1IDQ3MyAKUSAxMjg0IDM5MSAxNTg4IDM5MSAKUSAxOTk0IDM5MSAyMjEyIDUzMCAKUSAyNDMxIDY2OSAyNDMxIDkyMiAKUSAyNDMxIDExNTYgMjI3MyAxMjgxIApRIDIxMTYgMTQwNiAxNTgxIDE1MjIgCkwgMTM4MSAxNTY5IApRIDg0NyAxNjgxIDYwOSAxOTE0IApRIDM3MiAyMTQ3IDM3MiAyNTUzIApRIDM3MiAzMDQ3IDcyMiAzMzE1IApRIDEwNzIgMzU4NCAxNzE2IDM1ODQgClEgMjAzNCAzNTg0IDIzMTUgMzUzNyAKUSAyNTk3IDM0OTEgMjgzNCAzMzk3IAp6CiIgdHJhbnNmb3JtPSJzY2FsZSgwLjAxNTYyNSkiLz4KICAgICAgPC9kZWZzPgogICAgICA8dXNlIHhsaW5rOmhyZWY9IiNEZWphVnVTYW5zLTQzIi8+CiAgICAgIDx1c2UgeGxpbms6aHJlZj0iI0RlamFWdVNhbnMtNmYiIHg9IjY5LjgyNDIxOSIvPgogICAgICA8dXNlIHhsaW5rOmhyZWY9IiNEZWphVnVTYW5zLTc1IiB4PSIxMzEuMDA1ODU5Ii8+CiAgICAgIDx1c2UgeGxpbms6aHJlZj0iI0RlamFWdVNhbnMtNmUiIHg9IjE5NC4zODQ3NjYiLz4KICAgICAgPHVzZSB4bGluazpocmVmPSIjRGVqYVZ1U2Fucy03NCIgeD0iMjU3Ljc2MzY3MiIvPgogICAgICA8dXNlIHhsaW5rOmhyZWY9IiNEZWphVnVTYW5zLTczIiB4PSIyOTYuOTcyNjU2Ii8+CiAgICAgPC9nPgogICAgPC9nPgogICA8L2c+CiAgIDxnIGlkPSJwYXRjaF81Ij4KICAgIDxwYXRoIGQ9Ik0gNDAuNDg1NjI1IDE2Ny4wNCAKTCA0MC40ODU2MjUgMC43MiAKIiBzdHlsZT0iZmlsbDogbm9uZTsgc3Ryb2tlOiAjMDAwMDAwOyBzdHJva2Utd2lkdGg6IDAuODsgc3Ryb2tlLWxpbmVqb2luOiBtaXRlcjsgc3Ryb2tlLWxpbmVjYXA6IHNxdWFyZSIvPgogICA8L2c+CiAgIDxnIGlkPSJwYXRjaF82Ij4KICAgIDxwYXRoIGQ9Ik0gMjA3Ljg4NTYyNSAxNjcuMDQgCkwgMjA3Ljg4NTYyNSAwLjcyIAoiIHN0eWxlPSJmaWxsOiBub25lOyBzdHJva2U6ICMwMDAwMDA7IHN0cm9rZS13aWR0aDogMC44OyBzdHJva2UtbGluZWpvaW46IG1pdGVyOyBzdHJva2UtbGluZWNhcDogc3F1YXJlIi8+CiAgIDwvZz4KICAgPGcgaWQ9InBhdGNoXzciPgogICAgPHBhdGggZD0iTSA0MC40ODU2MjUgMTY3LjA0IApMIDIwNy44ODU2MjUgMTY3LjA0IAoiIHN0eWxlPSJmaWxsOiBub25lOyBzdHJva2U6ICMwMDAwMDA7IHN0cm9rZS13aWR0aDogMC44OyBzdHJva2UtbGluZWpvaW46IG1pdGVyOyBzdHJva2UtbGluZWNhcDogc3F1YXJlIi8+CiAgIDwvZz4KICAgPGcgaWQ9InBhdGNoXzgiPgogICAgPHBhdGggZD0iTSA0MC40ODU2MjUgMC43MiAKTCAyMDcuODg1NjI1IDAuNzIgCiIgc3R5bGU9ImZpbGw6IG5vbmU7IHN0cm9rZTogIzAwMDAwMDsgc3Ryb2tlLXdpZHRoOiAwLjg7IHN0cm9rZS1saW5lam9pbjogbWl0ZXI7IHN0cm9rZS1saW5lY2FwOiBzcXVhcmUiLz4KICAgPC9nPgogIDwvZz4KIDwvZz4KIDxkZWZzPgogIDxjbGlwUGF0aCBpZD0icGFmZDc5OTA2NzQiPgogICA8cmVjdCB4PSI0MC40ODU2MjUiIHk9IjAuNzIiIHdpZHRoPSIxNjcuNCIgaGVpZ2h0PSIxNjYuMzIiLz4KICA8L2NsaXBQYXRoPgogPC9kZWZzPgo8L3N2Zz4K'/>"
      ],
      "metadata": {
        "id": "XiVayhaiBrZf"
      }
    },
    {
      "cell_type": "code",
      "source": [
        "import matplotlib.pyplot as plt\n",
        "\n",
        "counts = df['quality'].value_counts()\n",
        "counts.plot(kind='bar')\n",
        "plt.show()"
      ],
      "metadata": {
        "id": "zmWPKux1_075",
        "colab": {
          "base_uri": "https://localhost:8080/",
          "height": 445
        },
        "outputId": "64ab1e01-31be-4c1a-80c7-d183c4a90f08"
      },
      "execution_count": null,
      "outputs": [
        {
          "output_type": "display_data",
          "data": {
            "text/plain": [
              "<Figure size 640x480 with 1 Axes>"
            ],
            "image/png": "[encoded data removed]"
          },
          "metadata": {}
        }
      ]
    },
    {
      "cell_type": "markdown",
      "source": [
        "## Q3. (1.5 points)"
      ],
      "metadata": {
        "id": "CiP2odVP6gUG"
      }
    },
    {
      "cell_type": "markdown",
      "source": [
        "Use histogram charts to visualize each of the other 11 attributes."
      ],
      "metadata": {
        "id": "GGXArayG6gIh"
      }
    },
    {
      "cell_type": "markdown",
      "source": [
        "<img  width=\"800\"  src='data:image/svg+xml;base64,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'/>"
      ],
      "metadata": {
        "id": "e3f-0CqTDKur"
      }
    },
    {
      "cell_type": "code",
      "source": [
        "fig, axes = plt.subplots(4, 3, figsize=(15,12))\n",
        "axes = axes.flatten()\n",
        "for i, col in enumerate(df.drop(columns='quality').columns):\n",
        "  axes[i].hist(df[col], edgecolor='white', linewidth=0.2)\n",
        "  axes[i].set_xlabel(col)\n",
        "  axes[i].set_ylabel('Counts')\n",
        "  axes[i].grid(False)\n",
        "\n",
        "plt.show()"
      ],
      "metadata": {
        "id": "uBrS93g2CJWF",
        "colab": {
          "base_uri": "https://localhost:8080/",
          "height": 891
        },
        "outputId": "42871051-dd3d-4367-a80b-be37d45c7f2b"
      },
      "execution_count": null,
      "outputs": [
        {
          "output_type": "display_data",
          "data": {
            "text/plain": [
              "<Figure size 1500x1200 with 12 Axes>"
            ],
            "image/png": "[encoded data removed]"
          },
          "metadata": {}
        }
      ]
    },
    {
      "cell_type": "markdown",
      "source": [
        "## Q4. (1 point)"
      ],
      "metadata": {
        "id": "gnhlLtdP6jk4"
      }
    },
    {
      "cell_type": "markdown",
      "source": [
        "Create a new column, \"IS_A.\" The value of \"IS_A\" is based on the \"quality\" column: if \"quality\" is equal to \"A,\" then \"IS_A\" is set to `True`; otherwise, it is set to `False`."
      ],
      "metadata": {
        "id": "obLwF2AY6jZu"
      }
    },
    {
      "cell_type": "markdown",
      "source": [
        "<div>\n",
        "<style scoped=\"\">\n",
        "    .dataframe tbody tr th:only-of-type {\n",
        "        vertical-align: middle;\n",
        "    }\n",
        "\n",
        "    .dataframe tbody tr th {\n",
        "        vertical-align: top;\n",
        "    }\n",
        "\n",
        "    .dataframe thead th {\n",
        "        text-align: right;\n",
        "    }\n",
        "</style>\n",
        "<table border=\"1\" class=\"dataframe\">\n",
        "  <thead>\n",
        "    <tr style=\"text-align: right;\">\n",
        "      <th></th>\n",
        "      <th>fixed acidity</th>\n",
        "      <th>volatile acidity</th>\n",
        "      <th>citric acid</th>\n",
        "      <th>residual sugar</th>\n",
        "      <th>chlorides</th>\n",
        "      <th>free sulfur dioxide</th>\n",
        "      <th>total sulfur dioxide</th>\n",
        "      <th>density</th>\n",
        "      <th>pH</th>\n",
        "      <th>sulphates</th>\n",
        "      <th>alcohol</th>\n",
        "      <th>quality</th>\n",
        "      <th>IS_A</th>\n",
        "    </tr>\n",
        "  </thead>\n",
        "  <tbody>\n",
        "    <tr>\n",
        "      <th>0</th>\n",
        "      <td>7.4</td>\n",
        "      <td>0.700</td>\n",
        "      <td>0.00</td>\n",
        "      <td>1.9</td>\n",
        "      <td>0.076</td>\n",
        "      <td>11.0</td>\n",
        "      <td>34.0</td>\n",
        "      <td>0.99780</td>\n",
        "      <td>3.51</td>\n",
        "      <td>0.56</td>\n",
        "      <td>9.4</td>\n",
        "      <td>B</td>\n",
        "      <td>False</td>\n",
        "    </tr>\n",
        "    <tr>\n",
        "      <th>1</th>\n",
        "      <td>7.8</td>\n",
        "      <td>0.880</td>\n",
        "      <td>0.00</td>\n",
        "      <td>2.6</td>\n",
        "      <td>0.098</td>\n",
        "      <td>25.0</td>\n",
        "      <td>67.0</td>\n",
        "      <td>0.99680</td>\n",
        "      <td>3.20</td>\n",
        "      <td>0.68</td>\n",
        "      <td>9.8</td>\n",
        "      <td>B</td>\n",
        "      <td>False</td>\n",
        "    </tr>\n",
        "    <tr>\n",
        "      <th>2</th>\n",
        "      <td>7.8</td>\n",
        "      <td>0.760</td>\n",
        "      <td>0.04</td>\n",
        "      <td>2.3</td>\n",
        "      <td>0.092</td>\n",
        "      <td>15.0</td>\n",
        "      <td>54.0</td>\n",
        "      <td>0.99700</td>\n",
        "      <td>3.26</td>\n",
        "      <td>0.65</td>\n",
        "      <td>9.8</td>\n",
        "      <td>B</td>\n",
        "      <td>False</td>\n",
        "    </tr>\n",
        "    <tr>\n",
        "      <th>3</th>\n",
        "      <td>11.2</td>\n",
        "      <td>0.280</td>\n",
        "      <td>0.56</td>\n",
        "      <td>1.9</td>\n",
        "      <td>0.075</td>\n",
        "      <td>17.0</td>\n",
        "      <td>60.0</td>\n",
        "      <td>0.99800</td>\n",
        "      <td>3.16</td>\n",
        "      <td>0.58</td>\n",
        "      <td>9.8</td>\n",
        "      <td>A</td>\n",
        "      <td>True</td>\n",
        "    </tr>\n",
        "    <tr>\n",
        "      <th>4</th>\n",
        "      <td>7.4</td>\n",
        "      <td>0.700</td>\n",
        "      <td>0.00</td>\n",
        "      <td>1.9</td>\n",
        "      <td>0.076</td>\n",
        "      <td>11.0</td>\n",
        "      <td>34.0</td>\n",
        "      <td>0.99780</td>\n",
        "      <td>3.51</td>\n",
        "      <td>0.56</td>\n",
        "      <td>9.4</td>\n",
        "      <td>B</td>\n",
        "      <td>False</td>\n",
        "    </tr>\n",
        "    <tr>\n",
        "      <th>...</th>\n",
        "      <td>...</td>\n",
        "      <td>...</td>\n",
        "      <td>...</td>\n",
        "      <td>...</td>\n",
        "      <td>...</td>\n",
        "      <td>...</td>\n",
        "      <td>...</td>\n",
        "      <td>...</td>\n",
        "      <td>...</td>\n",
        "      <td>...</td>\n",
        "      <td>...</td>\n",
        "      <td>...</td>\n",
        "      <td>...</td>\n",
        "    </tr>\n",
        "    <tr>\n",
        "      <th>1594</th>\n",
        "      <td>6.2</td>\n",
        "      <td>0.600</td>\n",
        "      <td>0.08</td>\n",
        "      <td>2.0</td>\n",
        "      <td>0.090</td>\n",
        "      <td>32.0</td>\n",
        "      <td>44.0</td>\n",
        "      <td>0.99490</td>\n",
        "      <td>3.45</td>\n",
        "      <td>0.58</td>\n",
        "      <td>10.5</td>\n",
        "      <td>B</td>\n",
        "      <td>False</td>\n",
        "    </tr>\n",
        "    <tr>\n",
        "      <th>1595</th>\n",
        "      <td>5.9</td>\n",
        "      <td>0.550</td>\n",
        "      <td>0.10</td>\n",
        "      <td>2.2</td>\n",
        "      <td>0.062</td>\n",
        "      <td>39.0</td>\n",
        "      <td>51.0</td>\n",
        "      <td>0.99512</td>\n",
        "      <td>3.52</td>\n",
        "      <td>0.76</td>\n",
        "      <td>11.2</td>\n",
        "      <td>A</td>\n",
        "      <td>True</td>\n",
        "    </tr>\n",
        "    <tr>\n",
        "      <th>1596</th>\n",
        "      <td>6.3</td>\n",
        "      <td>0.510</td>\n",
        "      <td>0.13</td>\n",
        "      <td>2.3</td>\n",
        "      <td>0.076</td>\n",
        "      <td>29.0</td>\n",
        "      <td>40.0</td>\n",
        "      <td>0.99574</td>\n",
        "      <td>3.42</td>\n",
        "      <td>0.75</td>\n",
        "      <td>11.0</td>\n",
        "      <td>A</td>\n",
        "      <td>True</td>\n",
        "    </tr>\n",
        "    <tr>\n",
        "      <th>1597</th>\n",
        "      <td>5.9</td>\n",
        "      <td>0.645</td>\n",
        "      <td>0.12</td>\n",
        "      <td>2.0</td>\n",
        "      <td>0.075</td>\n",
        "      <td>32.0</td>\n",
        "      <td>44.0</td>\n",
        "      <td>0.99547</td>\n",
        "      <td>3.57</td>\n",
        "      <td>0.71</td>\n",
        "      <td>10.2</td>\n",
        "      <td>B</td>\n",
        "      <td>False</td>\n",
        "    </tr>\n",
        "    <tr>\n",
        "      <th>1598</th>\n",
        "      <td>6.0</td>\n",
        "      <td>0.310</td>\n",
        "      <td>0.47</td>\n",
        "      <td>3.6</td>\n",
        "      <td>0.067</td>\n",
        "      <td>18.0</td>\n",
        "      <td>42.0</td>\n",
        "      <td>0.99549</td>\n",
        "      <td>3.39</td>\n",
        "      <td>0.66</td>\n",
        "      <td>11.0</td>\n",
        "      <td>A</td>\n",
        "      <td>True</td>\n",
        "    </tr>\n",
        "  </tbody>\n",
        "</table>\n",
        "<p>1599 rows × 13 columns</p>\n",
        "</div>"
      ],
      "metadata": {
        "id": "5kC3P28iD2Eh"
      }
    },
    {
      "cell_type": "code",
      "source": [
        "df['IS_A'] = df['quality'] == 'A'\n",
        "\n",
        "print(df)"
      ],
      "metadata": {
        "id": "OG8zCC0cAIig",
        "colab": {
          "base_uri": "https://localhost:8080/"
        },
        "outputId": "29a219a2-88c9-4210-b2cf-3582aa0d506f"
      },
      "execution_count": null,
      "outputs": [
        {
          "output_type": "stream",
          "name": "stdout",
          "text": [
            "      fixed acidity  volatile acidity  citric acid  residual sugar  chlorides  \\\n",
            "0               7.4             0.700         0.00             1.9      0.076   \n",
            "1               7.8             0.880         0.00             2.6      0.098   \n",
            "2               7.8             0.760         0.04             2.3      0.092   \n",
            "3              11.2             0.280         0.56             1.9      0.075   \n",
            "4               7.4             0.700         0.00             1.9      0.076   \n",
            "...             ...               ...          ...             ...        ...   \n",
            "1594            6.2             0.600         0.08             2.0      0.090   \n",
            "1595            5.9             0.550         0.10             2.2      0.062   \n",
            "1596            6.3             0.510         0.13             2.3      0.076   \n",
            "1597            5.9             0.645         0.12             2.0      0.075   \n",
            "1598            6.0             0.310         0.47             3.6      0.067   \n",
            "\n",
            "      free sulfur dioxide  total sulfur dioxide  density    pH  sulphates  \\\n",
            "0                    11.0                  34.0  0.99780  3.51       0.56   \n",
            "1                    25.0                  67.0  0.99680  3.20       0.68   \n",
            "2                    15.0                  54.0  0.99700  3.26       0.65   \n",
            "3                    17.0                  60.0  0.99800  3.16       0.58   \n",
            "4                    11.0                  34.0  0.99780  3.51       0.56   \n",
            "...                   ...                   ...      ...   ...        ...   \n",
            "1594                 32.0                  44.0  0.99490  3.45       0.58   \n",
            "1595                 39.0                  51.0  0.99512  3.52       0.76   \n",
            "1596                 29.0                  40.0  0.99574  3.42       0.75   \n",
            "1597                 32.0                  44.0  0.99547  3.57       0.71   \n",
            "1598                 18.0                  42.0  0.99549  3.39       0.66   \n",
            "\n",
            "      alcohol quality   IS_A  \n",
            "0         9.4       B  False  \n",
            "1         9.8       B  False  \n",
            "2         9.8       B  False  \n",
            "3         9.8       A   True  \n",
            "4         9.4       B  False  \n",
            "...       ...     ...    ...  \n",
            "1594     10.5       B  False  \n",
            "1595     11.2       A   True  \n",
            "1596     11.0       A   True  \n",
            "1597     10.2       B  False  \n",
            "1598     11.0       A   True  \n",
            "\n",
            "[1599 rows x 13 columns]\n"
          ]
        }
      ]
    },
    {
      "cell_type": "markdown",
      "source": [
        "## Q5. (1 point)"
      ],
      "metadata": {
        "id": "sSi4d7916m2p"
      }
    },
    {
      "cell_type": "markdown",
      "source": [
        "Split the dataset into two parts: a training dataset and a testing dataset, with 30% of the data allocated to the testing dataset. Use `sklearn.model_selection.train_test_split` to perform the split."
      ],
      "metadata": {
        "id": "DixjAUVa6muI"
      }
    },
    {
      "cell_type": "markdown",
      "source": [
        "training dataset"
      ],
      "metadata": {
        "id": "BxgNlV2fE5sI"
      }
    },
    {
      "cell_type": "markdown",
      "source": [
        "<div>\n",
        "<style scoped=\"\">\n",
        "    .dataframe tbody tr th:only-of-type {\n",
        "        vertical-align: middle;\n",
        "    }\n",
        "\n",
        "    .dataframe tbody tr th {\n",
        "        vertical-align: top;\n",
        "    }\n",
        "\n",
        "    .dataframe thead th {\n",
        "        text-align: right;\n",
        "    }\n",
        "</style>\n",
        "<table border=\"1\" class=\"dataframe\">\n",
        "  <thead>\n",
        "    <tr style=\"text-align: right;\">\n",
        "      <th></th>\n",
        "      <th>fixed acidity</th>\n",
        "      <th>volatile acidity</th>\n",
        "      <th>citric acid</th>\n",
        "      <th>residual sugar</th>\n",
        "      <th>chlorides</th>\n",
        "      <th>free sulfur dioxide</th>\n",
        "      <th>total sulfur dioxide</th>\n",
        "      <th>density</th>\n",
        "      <th>pH</th>\n",
        "      <th>sulphates</th>\n",
        "      <th>alcohol</th>\n",
        "      <th>quality</th>\n",
        "      <th>IS_A</th>\n",
        "    </tr>\n",
        "  </thead>\n",
        "  <tbody>\n",
        "    <tr>\n",
        "      <th>1517</th>\n",
        "      <td>6.5</td>\n",
        "      <td>0.530</td>\n",
        "      <td>0.06</td>\n",
        "      <td>2.0</td>\n",
        "      <td>0.063</td>\n",
        "      <td>29.0</td>\n",
        "      <td>44.0</td>\n",
        "      <td>0.99489</td>\n",
        "      <td>3.38</td>\n",
        "      <td>0.83</td>\n",
        "      <td>10.3</td>\n",
        "      <td>A</td>\n",
        "      <td>True</td>\n",
        "    </tr>\n",
        "    <tr>\n",
        "      <th>694</th>\n",
        "      <td>9.0</td>\n",
        "      <td>0.470</td>\n",
        "      <td>0.31</td>\n",
        "      <td>2.7</td>\n",
        "      <td>0.084</td>\n",
        "      <td>24.0</td>\n",
        "      <td>125.0</td>\n",
        "      <td>0.99840</td>\n",
        "      <td>3.31</td>\n",
        "      <td>0.61</td>\n",
        "      <td>9.4</td>\n",
        "      <td>B</td>\n",
        "      <td>False</td>\n",
        "    </tr>\n",
        "    <tr>\n",
        "      <th>833</th>\n",
        "      <td>11.6</td>\n",
        "      <td>0.470</td>\n",
        "      <td>0.44</td>\n",
        "      <td>1.6</td>\n",
        "      <td>0.147</td>\n",
        "      <td>36.0</td>\n",
        "      <td>51.0</td>\n",
        "      <td>0.99836</td>\n",
        "      <td>3.38</td>\n",
        "      <td>0.86</td>\n",
        "      <td>9.9</td>\n",
        "      <td>B</td>\n",
        "      <td>False</td>\n",
        "    </tr>\n",
        "    <tr>\n",
        "      <th>85</th>\n",
        "      <td>6.9</td>\n",
        "      <td>0.550</td>\n",
        "      <td>0.15</td>\n",
        "      <td>2.2</td>\n",
        "      <td>0.076</td>\n",
        "      <td>19.0</td>\n",
        "      <td>40.0</td>\n",
        "      <td>0.99610</td>\n",
        "      <td>3.41</td>\n",
        "      <td>0.59</td>\n",
        "      <td>10.1</td>\n",
        "      <td>B</td>\n",
        "      <td>False</td>\n",
        "    </tr>\n",
        "    <tr>\n",
        "      <th>591</th>\n",
        "      <td>6.6</td>\n",
        "      <td>0.390</td>\n",
        "      <td>0.49</td>\n",
        "      <td>1.7</td>\n",
        "      <td>0.070</td>\n",
        "      <td>23.0</td>\n",
        "      <td>149.0</td>\n",
        "      <td>0.99220</td>\n",
        "      <td>3.12</td>\n",
        "      <td>0.50</td>\n",
        "      <td>11.5</td>\n",
        "      <td>A</td>\n",
        "      <td>True</td>\n",
        "    </tr>\n",
        "    <tr>\n",
        "      <th>...</th>\n",
        "      <td>...</td>\n",
        "      <td>...</td>\n",
        "      <td>...</td>\n",
        "      <td>...</td>\n",
        "      <td>...</td>\n",
        "      <td>...</td>\n",
        "      <td>...</td>\n",
        "      <td>...</td>\n",
        "      <td>...</td>\n",
        "      <td>...</td>\n",
        "      <td>...</td>\n",
        "      <td>...</td>\n",
        "      <td>...</td>\n",
        "    </tr>\n",
        "    <tr>\n",
        "      <th>208</th>\n",
        "      <td>7.8</td>\n",
        "      <td>0.440</td>\n",
        "      <td>0.28</td>\n",
        "      <td>2.7</td>\n",
        "      <td>0.100</td>\n",
        "      <td>18.0</td>\n",
        "      <td>95.0</td>\n",
        "      <td>0.99660</td>\n",
        "      <td>3.22</td>\n",
        "      <td>0.67</td>\n",
        "      <td>9.4</td>\n",
        "      <td>B</td>\n",
        "      <td>False</td>\n",
        "    </tr>\n",
        "    <tr>\n",
        "      <th>1567</th>\n",
        "      <td>7.2</td>\n",
        "      <td>0.695</td>\n",
        "      <td>0.13</td>\n",
        "      <td>2.0</td>\n",
        "      <td>0.076</td>\n",
        "      <td>12.0</td>\n",
        "      <td>20.0</td>\n",
        "      <td>0.99546</td>\n",
        "      <td>3.29</td>\n",
        "      <td>0.54</td>\n",
        "      <td>10.1</td>\n",
        "      <td>B</td>\n",
        "      <td>False</td>\n",
        "    </tr>\n",
        "    <tr>\n",
        "      <th>312</th>\n",
        "      <td>9.0</td>\n",
        "      <td>0.460</td>\n",
        "      <td>0.31</td>\n",
        "      <td>2.8</td>\n",
        "      <td>0.093</td>\n",
        "      <td>19.0</td>\n",
        "      <td>98.0</td>\n",
        "      <td>0.99815</td>\n",
        "      <td>3.32</td>\n",
        "      <td>0.63</td>\n",
        "      <td>9.5</td>\n",
        "      <td>A</td>\n",
        "      <td>True</td>\n",
        "    </tr>\n",
        "    <tr>\n",
        "      <th>449</th>\n",
        "      <td>11.9</td>\n",
        "      <td>0.390</td>\n",
        "      <td>0.69</td>\n",
        "      <td>2.8</td>\n",
        "      <td>0.095</td>\n",
        "      <td>17.0</td>\n",
        "      <td>35.0</td>\n",
        "      <td>0.99940</td>\n",
        "      <td>3.10</td>\n",
        "      <td>0.61</td>\n",
        "      <td>10.8</td>\n",
        "      <td>A</td>\n",
        "      <td>True</td>\n",
        "    </tr>\n",
        "    <tr>\n",
        "      <th>477</th>\n",
        "      <td>10.4</td>\n",
        "      <td>0.240</td>\n",
        "      <td>0.49</td>\n",
        "      <td>1.8</td>\n",
        "      <td>0.075</td>\n",
        "      <td>6.0</td>\n",
        "      <td>20.0</td>\n",
        "      <td>0.99770</td>\n",
        "      <td>3.18</td>\n",
        "      <td>1.06</td>\n",
        "      <td>11.0</td>\n",
        "      <td>A</td>\n",
        "      <td>True</td>\n",
        "    </tr>\n",
        "  </tbody>\n",
        "</table>\n",
        "<p>1119 rows × 13 columns</p>\n",
        "</div>"
      ],
      "metadata": {
        "id": "C-p0SubQE8Bi"
      }
    },
    {
      "cell_type": "code",
      "source": [
        "from sklearn.model_selection import train_test_split\n",
        "\n",
        "train_df, test_df = train_test_split(df, test_size=0.3)"
      ],
      "metadata": {
        "id": "YC3dLqWsAJkO"
      },
      "execution_count": null,
      "outputs": []
    },
    {
      "cell_type": "markdown",
      "source": [
        "## Q6. (1 point)"
      ],
      "metadata": {
        "id": "NxbNbMh16tbM"
      }
    },
    {
      "cell_type": "markdown",
      "source": [
        "Use the first 11 columns ('fixed acidity', 'volatile acidity', 'citric acid', 'residual sugar', 'chlorides', 'free sulfur dioxide', 'total sulfur dioxide', 'density', 'pH', 'sulphates', 'alcohol') as features and the 'IS_A' column as the target. Obtain `X_train`, `y_train`, `X_test`, and `y_test`."
      ],
      "metadata": {
        "id": "w8V1WgBo6tQe"
      }
    },
    {
      "cell_type": "markdown",
      "source": [
        "X_train"
      ],
      "metadata": {
        "id": "cYz7I-3NHLJl"
      }
    },
    {
      "cell_type": "markdown",
      "source": [
        "<div>\n",
        "<style scoped=\"\">\n",
        "    .dataframe tbody tr th:only-of-type {\n",
        "        vertical-align: middle;\n",
        "    }\n",
        "\n",
        "    .dataframe tbody tr th {\n",
        "        vertical-align: top;\n",
        "    }\n",
        "\n",
        "    .dataframe thead th {\n",
        "        text-align: right;\n",
        "    }\n",
        "</style>\n",
        "<table border=\"1\" class=\"dataframe\">\n",
        "  <thead>\n",
        "    <tr style=\"text-align: right;\">\n",
        "      <th></th>\n",
        "      <th>fixed acidity</th>\n",
        "      <th>volatile acidity</th>\n",
        "      <th>citric acid</th>\n",
        "      <th>residual sugar</th>\n",
        "      <th>chlorides</th>\n",
        "      <th>free sulfur dioxide</th>\n",
        "      <th>total sulfur dioxide</th>\n",
        "      <th>density</th>\n",
        "      <th>pH</th>\n",
        "      <th>sulphates</th>\n",
        "      <th>alcohol</th>\n",
        "    </tr>\n",
        "  </thead>\n",
        "  <tbody>\n",
        "    <tr>\n",
        "      <th>1517</th>\n",
        "      <td>6.5</td>\n",
        "      <td>0.530</td>\n",
        "      <td>0.06</td>\n",
        "      <td>2.0</td>\n",
        "      <td>0.063</td>\n",
        "      <td>29.0</td>\n",
        "      <td>44.0</td>\n",
        "      <td>0.99489</td>\n",
        "      <td>3.38</td>\n",
        "      <td>0.83</td>\n",
        "      <td>10.3</td>\n",
        "    </tr>\n",
        "    <tr>\n",
        "      <th>694</th>\n",
        "      <td>9.0</td>\n",
        "      <td>0.470</td>\n",
        "      <td>0.31</td>\n",
        "      <td>2.7</td>\n",
        "      <td>0.084</td>\n",
        "      <td>24.0</td>\n",
        "      <td>125.0</td>\n",
        "      <td>0.99840</td>\n",
        "      <td>3.31</td>\n",
        "      <td>0.61</td>\n",
        "      <td>9.4</td>\n",
        "    </tr>\n",
        "    <tr>\n",
        "      <th>833</th>\n",
        "      <td>11.6</td>\n",
        "      <td>0.470</td>\n",
        "      <td>0.44</td>\n",
        "      <td>1.6</td>\n",
        "      <td>0.147</td>\n",
        "      <td>36.0</td>\n",
        "      <td>51.0</td>\n",
        "      <td>0.99836</td>\n",
        "      <td>3.38</td>\n",
        "      <td>0.86</td>\n",
        "      <td>9.9</td>\n",
        "    </tr>\n",
        "    <tr>\n",
        "      <th>85</th>\n",
        "      <td>6.9</td>\n",
        "      <td>0.550</td>\n",
        "      <td>0.15</td>\n",
        "      <td>2.2</td>\n",
        "      <td>0.076</td>\n",
        "      <td>19.0</td>\n",
        "      <td>40.0</td>\n",
        "      <td>0.99610</td>\n",
        "      <td>3.41</td>\n",
        "      <td>0.59</td>\n",
        "      <td>10.1</td>\n",
        "    </tr>\n",
        "    <tr>\n",
        "      <th>591</th>\n",
        "      <td>6.6</td>\n",
        "      <td>0.390</td>\n",
        "      <td>0.49</td>\n",
        "      <td>1.7</td>\n",
        "      <td>0.070</td>\n",
        "      <td>23.0</td>\n",
        "      <td>149.0</td>\n",
        "      <td>0.99220</td>\n",
        "      <td>3.12</td>\n",
        "      <td>0.50</td>\n",
        "      <td>11.5</td>\n",
        "    </tr>\n",
        "    <tr>\n",
        "      <th>...</th>\n",
        "      <td>...</td>\n",
        "      <td>...</td>\n",
        "      <td>...</td>\n",
        "      <td>...</td>\n",
        "      <td>...</td>\n",
        "      <td>...</td>\n",
        "      <td>...</td>\n",
        "      <td>...</td>\n",
        "      <td>...</td>\n",
        "      <td>...</td>\n",
        "      <td>...</td>\n",
        "    </tr>\n",
        "    <tr>\n",
        "      <th>208</th>\n",
        "      <td>7.8</td>\n",
        "      <td>0.440</td>\n",
        "      <td>0.28</td>\n",
        "      <td>2.7</td>\n",
        "      <td>0.100</td>\n",
        "      <td>18.0</td>\n",
        "      <td>95.0</td>\n",
        "      <td>0.99660</td>\n",
        "      <td>3.22</td>\n",
        "      <td>0.67</td>\n",
        "      <td>9.4</td>\n",
        "    </tr>\n",
        "    <tr>\n",
        "      <th>1567</th>\n",
        "      <td>7.2</td>\n",
        "      <td>0.695</td>\n",
        "      <td>0.13</td>\n",
        "      <td>2.0</td>\n",
        "      <td>0.076</td>\n",
        "      <td>12.0</td>\n",
        "      <td>20.0</td>\n",
        "      <td>0.99546</td>\n",
        "      <td>3.29</td>\n",
        "      <td>0.54</td>\n",
        "      <td>10.1</td>\n",
        "    </tr>\n",
        "    <tr>\n",
        "      <th>312</th>\n",
        "      <td>9.0</td>\n",
        "      <td>0.460</td>\n",
        "      <td>0.31</td>\n",
        "      <td>2.8</td>\n",
        "      <td>0.093</td>\n",
        "      <td>19.0</td>\n",
        "      <td>98.0</td>\n",
        "      <td>0.99815</td>\n",
        "      <td>3.32</td>\n",
        "      <td>0.63</td>\n",
        "      <td>9.5</td>\n",
        "    </tr>\n",
        "    <tr>\n",
        "      <th>449</th>\n",
        "      <td>11.9</td>\n",
        "      <td>0.390</td>\n",
        "      <td>0.69</td>\n",
        "      <td>2.8</td>\n",
        "      <td>0.095</td>\n",
        "      <td>17.0</td>\n",
        "      <td>35.0</td>\n",
        "      <td>0.99940</td>\n",
        "      <td>3.10</td>\n",
        "      <td>0.61</td>\n",
        "      <td>10.8</td>\n",
        "    </tr>\n",
        "    <tr>\n",
        "      <th>477</th>\n",
        "      <td>10.4</td>\n",
        "      <td>0.240</td>\n",
        "      <td>0.49</td>\n",
        "      <td>1.8</td>\n",
        "      <td>0.075</td>\n",
        "      <td>6.0</td>\n",
        "      <td>20.0</td>\n",
        "      <td>0.99770</td>\n",
        "      <td>3.18</td>\n",
        "      <td>1.06</td>\n",
        "      <td>11.0</td>\n",
        "    </tr>\n",
        "  </tbody>\n",
        "</table>\n",
        "<p>1119 rows × 11 columns</p>\n",
        "</div>"
      ],
      "metadata": {
        "id": "h2EkRDBKHL-8"
      }
    },
    {
      "cell_type": "markdown",
      "source": [
        "X_test"
      ],
      "metadata": {
        "id": "ey6DPReNHSgM"
      }
    },
    {
      "cell_type": "markdown",
      "source": [
        "<div>\n",
        "<style scoped=\"\">\n",
        "    .dataframe tbody tr th:only-of-type {\n",
        "        vertical-align: middle;\n",
        "    }\n",
        "\n",
        "    .dataframe tbody tr th {\n",
        "        vertical-align: top;\n",
        "    }\n",
        "\n",
        "    .dataframe thead th {\n",
        "        text-align: right;\n",
        "    }\n",
        "</style>\n",
        "<table border=\"1\" class=\"dataframe\">\n",
        "  <thead>\n",
        "    <tr style=\"text-align: right;\">\n",
        "      <th></th>\n",
        "      <th>fixed acidity</th>\n",
        "      <th>volatile acidity</th>\n",
        "      <th>citric acid</th>\n",
        "      <th>residual sugar</th>\n",
        "      <th>chlorides</th>\n",
        "      <th>free sulfur dioxide</th>\n",
        "      <th>total sulfur dioxide</th>\n",
        "      <th>density</th>\n",
        "      <th>pH</th>\n",
        "      <th>sulphates</th>\n",
        "      <th>alcohol</th>\n",
        "    </tr>\n",
        "  </thead>\n",
        "  <tbody>\n",
        "    <tr>\n",
        "      <th>1072</th>\n",
        "      <td>7.2</td>\n",
        "      <td>0.35</td>\n",
        "      <td>0.26</td>\n",
        "      <td>1.8</td>\n",
        "      <td>0.083</td>\n",
        "      <td>33.0</td>\n",
        "      <td>75.0</td>\n",
        "      <td>0.99680</td>\n",
        "      <td>3.40</td>\n",
        "      <td>0.58</td>\n",
        "      <td>9.5</td>\n",
        "    </tr>\n",
        "    <tr>\n",
        "      <th>24</th>\n",
        "      <td>6.9</td>\n",
        "      <td>0.40</td>\n",
        "      <td>0.14</td>\n",
        "      <td>2.4</td>\n",
        "      <td>0.085</td>\n",
        "      <td>21.0</td>\n",
        "      <td>40.0</td>\n",
        "      <td>0.99680</td>\n",
        "      <td>3.43</td>\n",
        "      <td>0.63</td>\n",
        "      <td>9.7</td>\n",
        "    </tr>\n",
        "    <tr>\n",
        "      <th>934</th>\n",
        "      <td>6.6</td>\n",
        "      <td>0.61</td>\n",
        "      <td>0.01</td>\n",
        "      <td>1.9</td>\n",
        "      <td>0.080</td>\n",
        "      <td>8.0</td>\n",
        "      <td>25.0</td>\n",
        "      <td>0.99746</td>\n",
        "      <td>3.69</td>\n",
        "      <td>0.73</td>\n",
        "      <td>10.5</td>\n",
        "    </tr>\n",
        "    <tr>\n",
        "      <th>993</th>\n",
        "      <td>7.1</td>\n",
        "      <td>0.34</td>\n",
        "      <td>0.28</td>\n",
        "      <td>2.0</td>\n",
        "      <td>0.082</td>\n",
        "      <td>31.0</td>\n",
        "      <td>68.0</td>\n",
        "      <td>0.99694</td>\n",
        "      <td>3.45</td>\n",
        "      <td>0.48</td>\n",
        "      <td>9.4</td>\n",
        "    </tr>\n",
        "    <tr>\n",
        "      <th>233</th>\n",
        "      <td>6.9</td>\n",
        "      <td>0.52</td>\n",
        "      <td>0.25</td>\n",
        "      <td>2.6</td>\n",
        "      <td>0.081</td>\n",
        "      <td>10.0</td>\n",
        "      <td>37.0</td>\n",
        "      <td>0.99685</td>\n",
        "      <td>3.46</td>\n",
        "      <td>0.50</td>\n",
        "      <td>11.0</td>\n",
        "    </tr>\n",
        "    <tr>\n",
        "      <th>...</th>\n",
        "      <td>...</td>\n",
        "      <td>...</td>\n",
        "      <td>...</td>\n",
        "      <td>...</td>\n",
        "      <td>...</td>\n",
        "      <td>...</td>\n",
        "      <td>...</td>\n",
        "      <td>...</td>\n",
        "      <td>...</td>\n",
        "      <td>...</td>\n",
        "      <td>...</td>\n",
        "    </tr>\n",
        "    <tr>\n",
        "      <th>714</th>\n",
        "      <td>9.9</td>\n",
        "      <td>0.74</td>\n",
        "      <td>0.28</td>\n",
        "      <td>2.6</td>\n",
        "      <td>0.078</td>\n",
        "      <td>21.0</td>\n",
        "      <td>77.0</td>\n",
        "      <td>0.99800</td>\n",
        "      <td>3.28</td>\n",
        "      <td>0.51</td>\n",
        "      <td>9.8</td>\n",
        "    </tr>\n",
        "    <tr>\n",
        "      <th>920</th>\n",
        "      <td>9.6</td>\n",
        "      <td>0.41</td>\n",
        "      <td>0.37</td>\n",
        "      <td>2.3</td>\n",
        "      <td>0.091</td>\n",
        "      <td>10.0</td>\n",
        "      <td>23.0</td>\n",
        "      <td>0.99786</td>\n",
        "      <td>3.24</td>\n",
        "      <td>0.56</td>\n",
        "      <td>10.5</td>\n",
        "    </tr>\n",
        "    <tr>\n",
        "      <th>1331</th>\n",
        "      <td>7.8</td>\n",
        "      <td>0.87</td>\n",
        "      <td>0.26</td>\n",
        "      <td>3.8</td>\n",
        "      <td>0.107</td>\n",
        "      <td>31.0</td>\n",
        "      <td>67.0</td>\n",
        "      <td>0.99668</td>\n",
        "      <td>3.26</td>\n",
        "      <td>0.46</td>\n",
        "      <td>9.2</td>\n",
        "    </tr>\n",
        "    <tr>\n",
        "      <th>1510</th>\n",
        "      <td>6.4</td>\n",
        "      <td>0.36</td>\n",
        "      <td>0.21</td>\n",
        "      <td>2.2</td>\n",
        "      <td>0.047</td>\n",
        "      <td>26.0</td>\n",
        "      <td>48.0</td>\n",
        "      <td>0.99661</td>\n",
        "      <td>3.47</td>\n",
        "      <td>0.77</td>\n",
        "      <td>9.7</td>\n",
        "    </tr>\n",
        "    <tr>\n",
        "      <th>938</th>\n",
        "      <td>7.2</td>\n",
        "      <td>0.38</td>\n",
        "      <td>0.38</td>\n",
        "      <td>2.8</td>\n",
        "      <td>0.068</td>\n",
        "      <td>23.0</td>\n",
        "      <td>42.0</td>\n",
        "      <td>0.99356</td>\n",
        "      <td>3.34</td>\n",
        "      <td>0.72</td>\n",
        "      <td>12.9</td>\n",
        "    </tr>\n",
        "  </tbody>\n",
        "</table>\n",
        "<p>480 rows × 11 columns</p>\n",
        "</div>"
      ],
      "metadata": {
        "id": "ow9PQAZuHZnJ"
      }
    },
    {
      "cell_type": "markdown",
      "source": [
        "y_train"
      ],
      "metadata": {
        "id": "yopn2K8mHcya"
      }
    },
    {
      "cell_type": "markdown",
      "source": [
        "<div>\n",
        "<style scoped=\"\">\n",
        "    .dataframe tbody tr th:only-of-type {\n",
        "        vertical-align: middle;\n",
        "    }\n",
        "\n",
        "    .dataframe tbody tr th {\n",
        "        vertical-align: top;\n",
        "    }\n",
        "\n",
        "    .dataframe thead th {\n",
        "        text-align: right;\n",
        "    }\n",
        "</style>\n",
        "<table border=\"1\" class=\"dataframe\">\n",
        "  <thead>\n",
        "    <tr style=\"text-align: right;\">\n",
        "      <th></th>\n",
        "      <th>IS_A</th>\n",
        "    </tr>\n",
        "  </thead>\n",
        "  <tbody>\n",
        "    <tr>\n",
        "      <th>1517</th>\n",
        "      <td>True</td>\n",
        "    </tr>\n",
        "    <tr>\n",
        "      <th>694</th>\n",
        "      <td>False</td>\n",
        "    </tr>\n",
        "    <tr>\n",
        "      <th>833</th>\n",
        "      <td>False</td>\n",
        "    </tr>\n",
        "    <tr>\n",
        "      <th>85</th>\n",
        "      <td>False</td>\n",
        "    </tr>\n",
        "    <tr>\n",
        "      <th>591</th>\n",
        "      <td>True</td>\n",
        "    </tr>\n",
        "    <tr>\n",
        "      <th>...</th>\n",
        "      <td>...</td>\n",
        "    </tr>\n",
        "    <tr>\n",
        "      <th>208</th>\n",
        "      <td>False</td>\n",
        "    </tr>\n",
        "    <tr>\n",
        "      <th>1567</th>\n",
        "      <td>False</td>\n",
        "    </tr>\n",
        "    <tr>\n",
        "      <th>312</th>\n",
        "      <td>True</td>\n",
        "    </tr>\n",
        "    <tr>\n",
        "      <th>449</th>\n",
        "      <td>True</td>\n",
        "    </tr>\n",
        "    <tr>\n",
        "      <th>477</th>\n",
        "      <td>True</td>\n",
        "    </tr>\n",
        "  </tbody>\n",
        "</table>\n",
        "<p>1119 rows × 1 columns</p>\n",
        "</div>"
      ],
      "metadata": {
        "id": "zA-7lMpkHj3X"
      }
    },
    {
      "cell_type": "markdown",
      "source": [
        "y_test"
      ],
      "metadata": {
        "id": "yWkkZ814HmvE"
      }
    },
    {
      "cell_type": "markdown",
      "source": [
        "<div>\n",
        "<style scoped=\"\">\n",
        "    .dataframe tbody tr th:only-of-type {\n",
        "        vertical-align: middle;\n",
        "    }\n",
        "\n",
        "    .dataframe tbody tr th {\n",
        "        vertical-align: top;\n",
        "    }\n",
        "\n",
        "    .dataframe thead th {\n",
        "        text-align: right;\n",
        "    }\n",
        "</style>\n",
        "<table border=\"1\" class=\"dataframe\">\n",
        "  <thead>\n",
        "    <tr style=\"text-align: right;\">\n",
        "      <th></th>\n",
        "      <th>IS_A</th>\n",
        "    </tr>\n",
        "  </thead>\n",
        "  <tbody>\n",
        "    <tr>\n",
        "      <th>1072</th>\n",
        "      <td>True</td>\n",
        "    </tr>\n",
        "    <tr>\n",
        "      <th>24</th>\n",
        "      <td>True</td>\n",
        "    </tr>\n",
        "    <tr>\n",
        "      <th>934</th>\n",
        "      <td>False</td>\n",
        "    </tr>\n",
        "    <tr>\n",
        "      <th>993</th>\n",
        "      <td>False</td>\n",
        "    </tr>\n",
        "    <tr>\n",
        "      <th>233</th>\n",
        "      <td>False</td>\n",
        "    </tr>\n",
        "    <tr>\n",
        "      <th>...</th>\n",
        "      <td>...</td>\n",
        "    </tr>\n",
        "    <tr>\n",
        "      <th>714</th>\n",
        "      <td>False</td>\n",
        "    </tr>\n",
        "    <tr>\n",
        "      <th>920</th>\n",
        "      <td>False</td>\n",
        "    </tr>\n",
        "    <tr>\n",
        "      <th>1331</th>\n",
        "      <td>False</td>\n",
        "    </tr>\n",
        "    <tr>\n",
        "      <th>1510</th>\n",
        "      <td>True</td>\n",
        "    </tr>\n",
        "    <tr>\n",
        "      <th>938</th>\n",
        "      <td>True</td>\n",
        "    </tr>\n",
        "  </tbody>\n",
        "</table>\n",
        "<p>480 rows × 1 columns</p>\n",
        "</div>"
      ],
      "metadata": {
        "id": "sl40sS9AHtvy"
      }
    },
    {
      "cell_type": "code",
      "source": [
        "X_train = train_df.iloc[:,:11]\n",
        "X_test = test_df.iloc[:, :11]\n",
        "y_train = train_df['IS_A']\n",
        "y_test = test_df['IS_A']\n",
        "\n",
        "print(X_train)\n",
        "print(X_test)\n",
        "print(y_train)\n",
        "print(y_test)"
      ],
      "metadata": {
        "id": "LRMQjpdCALVQ",
        "colab": {
          "base_uri": "https://localhost:8080/"
        },
        "outputId": "623f9feb-069e-4d5a-cd0b-23bf8fe2ce82"
      },
      "execution_count": null,
      "outputs": [
        {
          "output_type": "stream",
          "name": "stdout",
          "text": [
            "      fixed acidity  volatile acidity  citric acid  residual sugar  chlorides  \\\n",
            "255             8.0             0.570         0.23             3.2      0.073   \n",
            "504            10.5             0.240         0.42             1.8      0.077   \n",
            "1562            7.2             0.695         0.13             2.0      0.076   \n",
            "308            10.3             0.430         0.44             2.4      0.214   \n",
            "761             9.3             0.655         0.26             2.0      0.096   \n",
            "...             ...               ...          ...             ...        ...   \n",
            "450            11.9             0.390         0.69             2.8      0.095   \n",
            "1585            7.2             0.390         0.44             2.6      0.066   \n",
            "1501            7.8             0.820         0.29             4.3      0.083   \n",
            "755             7.8             0.910         0.07             1.9      0.058   \n",
            "836             6.7             0.280         0.28             2.4      0.012   \n",
            "\n",
            "      free sulfur dioxide  total sulfur dioxide  density    pH  sulphates  \\\n",
            "255                  17.0                 119.0  0.99675  3.26       0.57   \n",
            "504                   6.0                  22.0  0.99760  3.21       1.05   \n",
            "1562                 12.0                  20.0  0.99546  3.29       0.54   \n",
            "308                   5.0                  12.0  0.99940  3.19       0.63   \n",
            "761                   5.0                  35.0  0.99738  3.25       0.42   \n",
            "...                   ...                   ...      ...   ...        ...   \n",
            "450                  17.0                  35.0  0.99940  3.10       0.61   \n",
            "1585                 22.0                  48.0  0.99494  3.30       0.84   \n",
            "1501                 21.0                  64.0  0.99642  3.16       0.53   \n",
            "755                  22.0                  47.0  0.99525  3.51       0.43   \n",
            "836                  36.0                 100.0  0.99064  3.26       0.39   \n",
            "\n",
            "      alcohol  \n",
            "255       9.3  \n",
            "504      10.8  \n",
            "1562     10.1  \n",
            "308       9.5  \n",
            "761       9.6  \n",
            "...       ...  \n",
            "450      10.8  \n",
            "1585     11.5  \n",
            "1501      9.4  \n",
            "755      10.7  \n",
            "836      11.7  \n",
            "\n",
            "[1119 rows x 11 columns]\n",
            "      fixed acidity  volatile acidity  citric acid  residual sugar  chlorides  \\\n",
            "738             9.0              0.46         0.23             2.8      0.092   \n",
            "1208            7.2              0.36         0.46             2.1      0.074   \n",
            "1151            6.1              0.58         0.23             2.5      0.044   \n",
            "1084            7.2              0.38         0.30             1.8      0.073   \n",
            "1309            7.0              0.62         0.10             1.4      0.071   \n",
            "...             ...               ...          ...             ...        ...   \n",
            "68              9.3              0.32         0.57             2.0      0.074   \n",
            "285             9.9              0.59         0.07             3.4      0.102   \n",
            "757             8.1              0.87         0.00             2.2      0.084   \n",
            "494             6.5              0.39         0.23             8.3      0.051   \n",
            "470            13.0              0.32         0.65             2.6      0.093   \n",
            "\n",
            "      free sulfur dioxide  total sulfur dioxide  density    pH  sulphates  \\\n",
            "738                  28.0                 104.0  0.99830  3.10       0.56   \n",
            "1208                 24.0                  44.0  0.99534  3.40       0.85   \n",
            "1151                 16.0                  70.0  0.99352  3.46       0.65   \n",
            "1084                 31.0                  70.0  0.99685  3.42       0.59   \n",
            "1309                 27.0                  63.0  0.99600  3.28       0.61   \n",
            "...                   ...                   ...      ...   ...        ...   \n",
            "68                   27.0                  65.0  0.99690  3.28       0.79   \n",
            "285                  32.0                  71.0  1.00015  3.31       0.71   \n",
            "757                  10.0                  31.0  0.99656  3.25       0.50   \n",
            "494                  28.0                  91.0  0.99520  3.44       0.55   \n",
            "470                  15.0                  47.0  0.99960  3.05       0.61   \n",
            "\n",
            "      alcohol  \n",
            "738       9.2  \n",
            "1208     11.0  \n",
            "1151     12.5  \n",
            "1084      9.5  \n",
            "1309      9.2  \n",
            "...       ...  \n",
            "68       10.7  \n",
            "285       9.8  \n",
            "757       9.8  \n",
            "494      12.1  \n",
            "470      10.6  \n",
            "\n",
            "[480 rows x 11 columns]\n",
            "255     False\n",
            "504      True\n",
            "1562    False\n",
            "308      True\n",
            "761     False\n",
            "        ...  \n",
            "450      True\n",
            "1585     True\n",
            "1501    False\n",
            "755      True\n",
            "836      True\n",
            "Name: IS_A, Length: 1119, dtype: bool\n",
            "738     False\n",
            "1208     True\n",
            "1151     True\n",
            "1084     True\n",
            "1309    False\n",
            "        ...  \n",
            "68      False\n",
            "285     False\n",
            "757     False\n",
            "494      True\n",
            "470     False\n",
            "Name: IS_A, Length: 480, dtype: bool\n"
          ]
        }
      ]
    },
    {
      "cell_type": "markdown",
      "source": [
        "## Q7. (1 point)"
      ],
      "metadata": {
        "id": "LH9uZndl6w8Y"
      }
    },
    {
      "cell_type": "markdown",
      "source": [
        "Use the Standard Scaler to scale both the training X data and the testing X data. Save the results as `X_train_scaled` and `X_test_scaled`."
      ],
      "metadata": {
        "id": "o1WDAxA06wys"
      }
    },
    {
      "cell_type": "markdown",
      "source": [
        "X_train_scaled"
      ],
      "metadata": {
        "id": "JRtMhnnhIPRj"
      }
    },
    {
      "cell_type": "markdown",
      "source": [
        "```text\n",
        "array([[-1.04719964,  0.01401048, -1.07457948, ...,  0.45303483,\n",
        "         0.98302649, -0.09589652],\n",
        "       [ 0.40796676, -0.32134192,  0.20088239, ...,  0.00258778,\n",
        "        -0.28718903, -0.97003184],\n",
        "       [ 1.92133981, -0.32134192,  0.86412257, ...,  0.45303483,\n",
        "         1.1562377 , -0.4844011 ],\n",
        "       ...,\n",
        "       [ 0.40796676, -0.37723399,  0.20088239, ...,  0.06693736,\n",
        "        -0.17171489, -0.87290569],\n",
        "       [ 2.09595978, -0.76847846,  2.13958444, ..., -1.34875334,\n",
        "        -0.28718903,  0.38973421],\n",
        "       [ 1.22285994, -1.60685946,  1.11921494, ..., -0.83395672,\n",
        "         2.31097909,  0.58398651]])\n",
        "```"
      ],
      "metadata": {
        "id": "loVmrVJ0IP6H"
      }
    },
    {
      "cell_type": "markdown",
      "source": [
        "X_test_scaled"
      ],
      "metadata": {
        "id": "RDSViB4XIQOo"
      }
    },
    {
      "cell_type": "markdown",
      "source": [
        "```text\n",
        "array([[-0.63975305, -0.99204672, -0.05420998, ...,  0.58173398,\n",
        "        -0.46040024, -0.87290569],\n",
        "       [-0.81437302, -0.71258639, -0.66643168, ...,  0.77478271,\n",
        "        -0.17171489, -0.6786534 ],\n",
        "       [-0.98899298,  0.46114701, -1.32967185, ...,  2.44787173,\n",
        "         0.4056558 ,  0.09835577],\n",
        "       ...,\n",
        "       [-0.29051311,  1.91434075, -0.05420998, ..., -0.3191601 ,\n",
        "        -1.15324508, -1.16428413],\n",
        "       [-1.1054063 , -0.93615466, -0.30930235, ...,  1.03218102,\n",
        "         0.63660408, -0.6786534 ],\n",
        "       [-0.63975305, -0.82437052,  0.55801172, ...,  0.19563652,\n",
        "         0.34791873,  2.42938329]])\n",
        "```"
      ],
      "metadata": {
        "id": "lPdtGm8IISXP"
      }
    },
    {
      "cell_type": "code",
      "source": [
        "from sklearn.preprocessing import StandardScaler\n",
        "\n",
        "scaler = StandardScaler()\n",
        "X_train_scaled = scaler.fit_transform(X_train)\n",
        "X_test_scaled = scaler.transform(X_test)\n",
        "\n",
        "print(X_train_scaled)\n",
        "print(X_test_scaled)"
      ],
      "metadata": {
        "id": "QBhb1PAxAMZE",
        "colab": {
          "base_uri": "https://localhost:8080/"
        },
        "outputId": "b4136df9-4854-418a-b4fe-b7cf20050bad"
      },
      "execution_count": null,
      "outputs": [
        {
          "output_type": "stream",
          "name": "stdout",
          "text": [
            "[[-0.20021173  0.23557608 -0.2213709  ... -0.316409   -0.52555365\n",
            "  -1.05251414]\n",
            " [ 1.25912207 -1.58394242  0.75773596 ... -0.6476173   2.40119985\n",
            "   0.35657458]\n",
            " [-0.66719854  0.92478764 -0.7366903  ... -0.11768402 -0.70847574\n",
            "  -0.30100016]\n",
            " ...\n",
            " [-0.31695843  1.61399919  0.08782074 ... -0.97882559 -0.76944977\n",
            "  -0.95857489]\n",
            " [-0.31695843  2.11023151 -1.04588194 ...  1.33963249 -1.37919009\n",
            "   0.26263533]\n",
            " [-0.9590653  -1.36339472  0.0362888  ... -0.316409   -1.62308621\n",
            "   1.20202781]]\n",
            "[[ 0.38352179 -0.37093009 -0.2213709  ... -1.37627555 -0.58652768\n",
            "  -1.14645339]\n",
            " [-0.66719854 -0.92229933  0.96386372 ...  0.61097423  1.18171923\n",
            "   0.54445308]\n",
            " [-1.30930541  0.29071301 -0.2213709  ...  1.00842419 -0.0377614\n",
            "   1.9535418 ]\n",
            " ...\n",
            " [-0.14183838  1.88968381 -1.40660552 ... -0.38265066 -0.95237187\n",
            "  -0.5828179 ]\n",
            " [-1.075812   -0.75688856 -0.2213709  ...  0.87594087 -0.64750171\n",
            "   1.57778481]\n",
            " [ 2.71845586 -1.14284703  1.94297058 ... -1.70748385 -0.28165752\n",
            "   0.16869609]]\n"
          ]
        }
      ]
    },
    {
      "cell_type": "markdown",
      "source": [
        "## Q8. (1 point)"
      ],
      "metadata": {
        "id": "HOEGTzco60Uu"
      }
    },
    {
      "cell_type": "markdown",
      "source": [
        "Build an `SGDClassifier` model."
      ],
      "metadata": {
        "id": "dqnTuLQvJFjj"
      }
    },
    {
      "cell_type": "code",
      "source": [
        "from sklearn.linear_model import SGDClassifier\n",
        "\n",
        "sgd = SGDClassifier()\n",
        "sgd.fit(X_train_scaled, y_train)"
      ],
      "metadata": {
        "id": "F141BpRcANgX",
        "colab": {
          "base_uri": "https://localhost:8080/",
          "height": 80
        },
        "outputId": "8536f924-bbe9-4881-892d-fc051d65f7ff"
      },
      "execution_count": null,
      "outputs": [
        {
          "output_type": "execute_result",
          "data": {
            "text/plain": [
              "SGDClassifier()"
            ],
            "text/html": [
              "<style>#sk-container-id-1 {\n",
              "  /* Definition of color scheme common for light and dark mode */\n",
              "  --sklearn-color-text: #000;\n",
              "  --sklearn-color-text-muted: #666;\n",
              "  --sklearn-color-line: gray;\n",
              "  /* Definition of color scheme for unfitted estimators */\n",
              "  --sklearn-color-unfitted-level-0: #fff5e6;\n",
              "  --sklearn-color-unfitted-level-1: #f6e4d2;\n",
              "  --sklearn-color-unfitted-level-2: #ffe0b3;\n",
              "  --sklearn-color-unfitted-level-3: chocolate;\n",
              "  /* Definition of color scheme for fitted estimators */\n",
              "  --sklearn-color-fitted-level-0: #f0f8ff;\n",
              "  --sklearn-color-fitted-level-1: #d4ebff;\n",
              "  --sklearn-color-fitted-level-2: #b3dbfd;\n",
              "  --sklearn-color-fitted-level-3: cornflowerblue;\n",
              "\n",
              "  /* Specific color for light theme */\n",
              "  --sklearn-color-text-on-default-background: var(--sg-text-color, var(--theme-code-foreground, var(--jp-content-font-color1, black)));\n",
              "  --sklearn-color-background: var(--sg-background-color, var(--theme-background, var(--jp-layout-color0, white)));\n",
              "  --sklearn-color-border-box: var(--sg-text-color, var(--theme-code-foreground, var(--jp-content-font-color1, black)));\n",
              "  --sklearn-color-icon: #696969;\n",
              "\n",
              "  @media (prefers-color-scheme: dark) {\n",
              "    /* Redefinition of color scheme for dark theme */\n",
              "    --sklearn-color-text-on-default-background: var(--sg-text-color, var(--theme-code-foreground, var(--jp-content-font-color1, white)));\n",
              "    --sklearn-color-background: var(--sg-background-color, var(--theme-background, var(--jp-layout-color0, #111)));\n",
              "    --sklearn-color-border-box: var(--sg-text-color, var(--theme-code-foreground, var(--jp-content-font-color1, white)));\n",
              "    --sklearn-color-icon: #878787;\n",
              "  }\n",
              "}\n",
              "\n",
              "#sk-container-id-1 {\n",
              "  color: var(--sklearn-color-text);\n",
              "}\n",
              "\n",
              "#sk-container-id-1 pre {\n",
              "  padding: 0;\n",
              "}\n",
              "\n",
              "#sk-container-id-1 input.sk-hidden--visually {\n",
              "  border: 0;\n",
              "  clip: rect(1px 1px 1px 1px);\n",
              "  clip: rect(1px, 1px, 1px, 1px);\n",
              "  height: 1px;\n",
              "  margin: -1px;\n",
              "  overflow: hidden;\n",
              "  padding: 0;\n",
              "  position: absolute;\n",
              "  width: 1px;\n",
              "}\n",
              "\n",
              "#sk-container-id-1 div.sk-dashed-wrapped {\n",
              "  border: 1px dashed var(--sklearn-color-line);\n",
              "  margin: 0 0.4em 0.5em 0.4em;\n",
              "  box-sizing: border-box;\n",
              "  padding-bottom: 0.4em;\n",
              "  background-color: var(--sklearn-color-background);\n",
              "}\n",
              "\n",
              "#sk-container-id-1 div.sk-container {\n",
              "  /* jupyter's `normalize.less` sets `[hidden] { display: none; }`\n",
              "     but bootstrap.min.css set `[hidden] { display: none !important; }`\n",
              "     so we also need the `!important` here to be able to override the\n",
              "     default hidden behavior on the sphinx rendered scikit-learn.org.\n",
              "     See: https://github.com/scikit-learn/scikit-learn/issues/21755 */\n",
              "  display: inline-block !important;\n",
              "  position: relative;\n",
              "}\n",
              "\n",
              "#sk-container-id-1 div.sk-text-repr-fallback {\n",
              "  display: none;\n",
              "}\n",
              "\n",
              "div.sk-parallel-item,\n",
              "div.sk-serial,\n",
              "div.sk-item {\n",
              "  /* draw centered vertical line to link estimators */\n",
              "  background-image: linear-gradient(var(--sklearn-color-text-on-default-background), var(--sklearn-color-text-on-default-background));\n",
              "  background-size: 2px 100%;\n",
              "  background-repeat: no-repeat;\n",
              "  background-position: center center;\n",
              "}\n",
              "\n",
              "/* Parallel-specific style estimator block */\n",
              "\n",
              "#sk-container-id-1 div.sk-parallel-item::after {\n",
              "  content: \"\";\n",
              "  width: 100%;\n",
              "  border-bottom: 2px solid var(--sklearn-color-text-on-default-background);\n",
              "  flex-grow: 1;\n",
              "}\n",
              "\n",
              "#sk-container-id-1 div.sk-parallel {\n",
              "  display: flex;\n",
              "  align-items: stretch;\n",
              "  justify-content: center;\n",
              "  background-color: var(--sklearn-color-background);\n",
              "  position: relative;\n",
              "}\n",
              "\n",
              "#sk-container-id-1 div.sk-parallel-item {\n",
              "  display: flex;\n",
              "  flex-direction: column;\n",
              "}\n",
              "\n",
              "#sk-container-id-1 div.sk-parallel-item:first-child::after {\n",
              "  align-self: flex-end;\n",
              "  width: 50%;\n",
              "}\n",
              "\n",
              "#sk-container-id-1 div.sk-parallel-item:last-child::after {\n",
              "  align-self: flex-start;\n",
              "  width: 50%;\n",
              "}\n",
              "\n",
              "#sk-container-id-1 div.sk-parallel-item:only-child::after {\n",
              "  width: 0;\n",
              "}\n",
              "\n",
              "/* Serial-specific style estimator block */\n",
              "\n",
              "#sk-container-id-1 div.sk-serial {\n",
              "  display: flex;\n",
              "  flex-direction: column;\n",
              "  align-items: center;\n",
              "  background-color: var(--sklearn-color-background);\n",
              "  padding-right: 1em;\n",
              "  padding-left: 1em;\n",
              "}\n",
              "\n",
              "\n",
              "/* Toggleable style: style used for estimator/Pipeline/ColumnTransformer box that is\n",
              "clickable and can be expanded/collapsed.\n",
              "- Pipeline and ColumnTransformer use this feature and define the default style\n",
              "- Estimators will overwrite some part of the style using the `sk-estimator` class\n",
              "*/\n",
              "\n",
              "/* Pipeline and ColumnTransformer style (default) */\n",
              "\n",
              "#sk-container-id-1 div.sk-toggleable {\n",
              "  /* Default theme specific background. It is overwritten whether we have a\n",
              "  specific estimator or a Pipeline/ColumnTransformer */\n",
              "  background-color: var(--sklearn-color-background);\n",
              "}\n",
              "\n",
              "/* Toggleable label */\n",
              "#sk-container-id-1 label.sk-toggleable__label {\n",
              "  cursor: pointer;\n",
              "  display: flex;\n",
              "  width: 100%;\n",
              "  margin-bottom: 0;\n",
              "  padding: 0.5em;\n",
              "  box-sizing: border-box;\n",
              "  text-align: center;\n",
              "  align-items: start;\n",
              "  justify-content: space-between;\n",
              "  gap: 0.5em;\n",
              "}\n",
              "\n",
              "#sk-container-id-1 label.sk-toggleable__label .caption {\n",
              "  font-size: 0.6rem;\n",
              "  font-weight: lighter;\n",
              "  color: var(--sklearn-color-text-muted);\n",
              "}\n",
              "\n",
              "#sk-container-id-1 label.sk-toggleable__label-arrow:before {\n",
              "  /* Arrow on the left of the label */\n",
              "  content: \"▸\";\n",
              "  float: left;\n",
              "  margin-right: 0.25em;\n",
              "  color: var(--sklearn-color-icon);\n",
              "}\n",
              "\n",
              "#sk-container-id-1 label.sk-toggleable__label-arrow:hover:before {\n",
              "  color: var(--sklearn-color-text);\n",
              "}\n",
              "\n",
              "/* Toggleable content - dropdown */\n",
              "\n",
              "#sk-container-id-1 div.sk-toggleable__content {\n",
              "  max-height: 0;\n",
              "  max-width: 0;\n",
              "  overflow: hidden;\n",
              "  text-align: left;\n",
              "  /* unfitted */\n",
              "  background-color: var(--sklearn-color-unfitted-level-0);\n",
              "}\n",
              "\n",
              "#sk-container-id-1 div.sk-toggleable__content.fitted {\n",
              "  /* fitted */\n",
              "  background-color: var(--sklearn-color-fitted-level-0);\n",
              "}\n",
              "\n",
              "#sk-container-id-1 div.sk-toggleable__content pre {\n",
              "  margin: 0.2em;\n",
              "  border-radius: 0.25em;\n",
              "  color: var(--sklearn-color-text);\n",
              "  /* unfitted */\n",
              "  background-color: var(--sklearn-color-unfitted-level-0);\n",
              "}\n",
              "\n",
              "#sk-container-id-1 div.sk-toggleable__content.fitted pre {\n",
              "  /* unfitted */\n",
              "  background-color: var(--sklearn-color-fitted-level-0);\n",
              "}\n",
              "\n",
              "#sk-container-id-1 input.sk-toggleable__control:checked~div.sk-toggleable__content {\n",
              "  /* Expand drop-down */\n",
              "  max-height: 200px;\n",
              "  max-width: 100%;\n",
              "  overflow: auto;\n",
              "}\n",
              "\n",
              "#sk-container-id-1 input.sk-toggleable__control:checked~label.sk-toggleable__label-arrow:before {\n",
              "  content: \"▾\";\n",
              "}\n",
              "\n",
              "/* Pipeline/ColumnTransformer-specific style */\n",
              "\n",
              "#sk-container-id-1 div.sk-label input.sk-toggleable__control:checked~label.sk-toggleable__label {\n",
              "  color: var(--sklearn-color-text);\n",
              "  background-color: var(--sklearn-color-unfitted-level-2);\n",
              "}\n",
              "\n",
              "#sk-container-id-1 div.sk-label.fitted input.sk-toggleable__control:checked~label.sk-toggleable__label {\n",
              "  background-color: var(--sklearn-color-fitted-level-2);\n",
              "}\n",
              "\n",
              "/* Estimator-specific style */\n",
              "\n",
              "/* Colorize estimator box */\n",
              "#sk-container-id-1 div.sk-estimator input.sk-toggleable__control:checked~label.sk-toggleable__label {\n",
              "  /* unfitted */\n",
              "  background-color: var(--sklearn-color-unfitted-level-2);\n",
              "}\n",
              "\n",
              "#sk-container-id-1 div.sk-estimator.fitted input.sk-toggleable__control:checked~label.sk-toggleable__label {\n",
              "  /* fitted */\n",
              "  background-color: var(--sklearn-color-fitted-level-2);\n",
              "}\n",
              "\n",
              "#sk-container-id-1 div.sk-label label.sk-toggleable__label,\n",
              "#sk-container-id-1 div.sk-label label {\n",
              "  /* The background is the default theme color */\n",
              "  color: var(--sklearn-color-text-on-default-background);\n",
              "}\n",
              "\n",
              "/* On hover, darken the color of the background */\n",
              "#sk-container-id-1 div.sk-label:hover label.sk-toggleable__label {\n",
              "  color: var(--sklearn-color-text);\n",
              "  background-color: var(--sklearn-color-unfitted-level-2);\n",
              "}\n",
              "\n",
              "/* Label box, darken color on hover, fitted */\n",
              "#sk-container-id-1 div.sk-label.fitted:hover label.sk-toggleable__label.fitted {\n",
              "  color: var(--sklearn-color-text);\n",
              "  background-color: var(--sklearn-color-fitted-level-2);\n",
              "}\n",
              "\n",
              "/* Estimator label */\n",
              "\n",
              "#sk-container-id-1 div.sk-label label {\n",
              "  font-family: monospace;\n",
              "  font-weight: bold;\n",
              "  display: inline-block;\n",
              "  line-height: 1.2em;\n",
              "}\n",
              "\n",
              "#sk-container-id-1 div.sk-label-container {\n",
              "  text-align: center;\n",
              "}\n",
              "\n",
              "/* Estimator-specific */\n",
              "#sk-container-id-1 div.sk-estimator {\n",
              "  font-family: monospace;\n",
              "  border: 1px dotted var(--sklearn-color-border-box);\n",
              "  border-radius: 0.25em;\n",
              "  box-sizing: border-box;\n",
              "  margin-bottom: 0.5em;\n",
              "  /* unfitted */\n",
              "  background-color: var(--sklearn-color-unfitted-level-0);\n",
              "}\n",
              "\n",
              "#sk-container-id-1 div.sk-estimator.fitted {\n",
              "  /* fitted */\n",
              "  background-color: var(--sklearn-color-fitted-level-0);\n",
              "}\n",
              "\n",
              "/* on hover */\n",
              "#sk-container-id-1 div.sk-estimator:hover {\n",
              "  /* unfitted */\n",
              "  background-color: var(--sklearn-color-unfitted-level-2);\n",
              "}\n",
              "\n",
              "#sk-container-id-1 div.sk-estimator.fitted:hover {\n",
              "  /* fitted */\n",
              "  background-color: var(--sklearn-color-fitted-level-2);\n",
              "}\n",
              "\n",
              "/* Specification for estimator info (e.g. \"i\" and \"?\") */\n",
              "\n",
              "/* Common style for \"i\" and \"?\" */\n",
              "\n",
              ".sk-estimator-doc-link,\n",
              "a:link.sk-estimator-doc-link,\n",
              "a:visited.sk-estimator-doc-link {\n",
              "  float: right;\n",
              "  font-size: smaller;\n",
              "  line-height: 1em;\n",
              "  font-family: monospace;\n",
              "  background-color: var(--sklearn-color-background);\n",
              "  border-radius: 1em;\n",
              "  height: 1em;\n",
              "  width: 1em;\n",
              "  text-decoration: none !important;\n",
              "  margin-left: 0.5em;\n",
              "  text-align: center;\n",
              "  /* unfitted */\n",
              "  border: var(--sklearn-color-unfitted-level-1) 1pt solid;\n",
              "  color: var(--sklearn-color-unfitted-level-1);\n",
              "}\n",
              "\n",
              ".sk-estimator-doc-link.fitted,\n",
              "a:link.sk-estimator-doc-link.fitted,\n",
              "a:visited.sk-estimator-doc-link.fitted {\n",
              "  /* fitted */\n",
              "  border: var(--sklearn-color-fitted-level-1) 1pt solid;\n",
              "  color: var(--sklearn-color-fitted-level-1);\n",
              "}\n",
              "\n",
              "/* On hover */\n",
              "div.sk-estimator:hover .sk-estimator-doc-link:hover,\n",
              ".sk-estimator-doc-link:hover,\n",
              "div.sk-label-container:hover .sk-estimator-doc-link:hover,\n",
              ".sk-estimator-doc-link:hover {\n",
              "  /* unfitted */\n",
              "  background-color: var(--sklearn-color-unfitted-level-3);\n",
              "  color: var(--sklearn-color-background);\n",
              "  text-decoration: none;\n",
              "}\n",
              "\n",
              "div.sk-estimator.fitted:hover .sk-estimator-doc-link.fitted:hover,\n",
              ".sk-estimator-doc-link.fitted:hover,\n",
              "div.sk-label-container:hover .sk-estimator-doc-link.fitted:hover,\n",
              ".sk-estimator-doc-link.fitted:hover {\n",
              "  /* fitted */\n",
              "  background-color: var(--sklearn-color-fitted-level-3);\n",
              "  color: var(--sklearn-color-background);\n",
              "  text-decoration: none;\n",
              "}\n",
              "\n",
              "/* Span, style for the box shown on hovering the info icon */\n",
              ".sk-estimator-doc-link span {\n",
              "  display: none;\n",
              "  z-index: 9999;\n",
              "  position: relative;\n",
              "  font-weight: normal;\n",
              "  right: .2ex;\n",
              "  padding: .5ex;\n",
              "  margin: .5ex;\n",
              "  width: min-content;\n",
              "  min-width: 20ex;\n",
              "  max-width: 50ex;\n",
              "  color: var(--sklearn-color-text);\n",
              "  box-shadow: 2pt 2pt 4pt #999;\n",
              "  /* unfitted */\n",
              "  background: var(--sklearn-color-unfitted-level-0);\n",
              "  border: .5pt solid var(--sklearn-color-unfitted-level-3);\n",
              "}\n",
              "\n",
              ".sk-estimator-doc-link.fitted span {\n",
              "  /* fitted */\n",
              "  background: var(--sklearn-color-fitted-level-0);\n",
              "  border: var(--sklearn-color-fitted-level-3);\n",
              "}\n",
              "\n",
              ".sk-estimator-doc-link:hover span {\n",
              "  display: block;\n",
              "}\n",
              "\n",
              "/* \"?\"-specific style due to the `<a>` HTML tag */\n",
              "\n",
              "#sk-container-id-1 a.estimator_doc_link {\n",
              "  float: right;\n",
              "  font-size: 1rem;\n",
              "  line-height: 1em;\n",
              "  font-family: monospace;\n",
              "  background-color: var(--sklearn-color-background);\n",
              "  border-radius: 1rem;\n",
              "  height: 1rem;\n",
              "  width: 1rem;\n",
              "  text-decoration: none;\n",
              "  /* unfitted */\n",
              "  color: var(--sklearn-color-unfitted-level-1);\n",
              "  border: var(--sklearn-color-unfitted-level-1) 1pt solid;\n",
              "}\n",
              "\n",
              "#sk-container-id-1 a.estimator_doc_link.fitted {\n",
              "  /* fitted */\n",
              "  border: var(--sklearn-color-fitted-level-1) 1pt solid;\n",
              "  color: var(--sklearn-color-fitted-level-1);\n",
              "}\n",
              "\n",
              "/* On hover */\n",
              "#sk-container-id-1 a.estimator_doc_link:hover {\n",
              "  /* unfitted */\n",
              "  background-color: var(--sklearn-color-unfitted-level-3);\n",
              "  color: var(--sklearn-color-background);\n",
              "  text-decoration: none;\n",
              "}\n",
              "\n",
              "#sk-container-id-1 a.estimator_doc_link.fitted:hover {\n",
              "  /* fitted */\n",
              "  background-color: var(--sklearn-color-fitted-level-3);\n",
              "}\n",
              "</style><div id=\"sk-container-id-1\" class=\"sk-top-container\"><div class=\"sk-text-repr-fallback\"><pre>SGDClassifier()</pre><b>In a Jupyter environment, please rerun this cell to show the HTML representation or trust the notebook. <br />On GitHub, the HTML representation is unable to render, please try loading this page with nbviewer.org.</b></div><div class=\"sk-container\" hidden><div class=\"sk-item\"><div class=\"sk-estimator fitted sk-toggleable\"><input class=\"sk-toggleable__control sk-hidden--visually\" id=\"sk-estimator-id-1\" type=\"checkbox\" checked><label for=\"sk-estimator-id-1\" class=\"sk-toggleable__label fitted sk-toggleable__label-arrow\"><div><div>SGDClassifier</div></div><div><a class=\"sk-estimator-doc-link fitted\" rel=\"noreferrer\" target=\"_blank\" href=\"https://scikit-learn.org/1.6/modules/generated/sklearn.linear_model.SGDClassifier.html\">?<span>Documentation for SGDClassifier</span></a><span class=\"sk-estimator-doc-link fitted\">i<span>Fitted</span></span></div></label><div class=\"sk-toggleable__content fitted\"><pre>SGDClassifier()</pre></div> </div></div></div></div>"
            ]
          },
          "metadata": {},
          "execution_count": 57
        }
      ]
    },
    {
      "cell_type": "markdown",
      "source": [
        "## Q9. (1 point)"
      ],
      "metadata": {
        "id": "2y3EJW_n64_j"
      }
    },
    {
      "cell_type": "markdown",
      "source": [
        "Predict the quality of the testing dataset using the scaled testing data, `X_test_scaled`."
      ],
      "metadata": {
        "id": "XWi8kF-s64sj"
      }
    },
    {
      "cell_type": "code",
      "source": [
        "y_pred = sgd.predict(X_test_scaled)"
      ],
      "metadata": {
        "id": "cVpgsAeMAOxk"
      },
      "execution_count": null,
      "outputs": []
    },
    {
      "cell_type": "markdown",
      "source": [
        "## Q10. (1 point)"
      ],
      "metadata": {
        "id": "fqYXqmml68IL"
      }
    },
    {
      "cell_type": "markdown",
      "source": [
        "Calculate the accuracy of the predictions on the testing dataset."
      ],
      "metadata": {
        "id": "qI4lwiu9670s"
      }
    },
    {
      "cell_type": "markdown",
      "source": [
        "You should get a similar result to the following (it does not need to be exactly the same number):\n",
        "\n",
        "0.7395833333333334"
      ],
      "metadata": {
        "id": "ZY0Non0CKVD6"
      }
    },
    {
      "cell_type": "code",
      "source": [
        "from sklearn.metrics import accuracy_score\n",
        "accuracy = accuracy_score(y_test, y_pred)\n",
        "print(accuracy)"
      ],
      "metadata": {
        "id": "NYkjNJRZAP1z",
        "colab": {
          "base_uri": "https://localhost:8080/"
        },
        "outputId": "c2295ef1-2aa8-432a-b689-90ac647cc0e5"
      },
      "execution_count": null,
      "outputs": [
        {
          "output_type": "stream",
          "name": "stdout",
          "text": [
            "0.70625\n"
          ]
        }
      ]
    },
    {
      "cell_type": "markdown",
      "source": [
        "## Q11. (3 points)"
      ],
      "metadata": {
        "id": "a6Pp5jTt6_et"
      }
    },
    {
      "cell_type": "markdown",
      "source": [
        "Calculate the precision, recall, F1-score, specificity, and false positive rate for the testing dataset."
      ],
      "metadata": {
        "id": "joSX7dJOKrSW"
      }
    },
    {
      "cell_type": "markdown",
      "source": [
        "You should get a similar result to the following (it does not need to be exactly the same number):"
      ],
      "metadata": {
        "id": "hD1EvXmSKvLm"
      }
    },
    {
      "cell_type": "markdown",
      "source": [
        "precision: 0.7433264887063655\n",
        "\n",
        "recall: 0.7098039215686275\n",
        "\n",
        "F1 score: 0.7433264887063655\n",
        "\n",
        "specificity: 0.7733333333333333\n",
        "\n",
        "false positive rate: 0.22666666666666668"
      ],
      "metadata": {
        "id": "Gd1ZARxFLKA1"
      }
    },
    {
      "cell_type": "code",
      "source": [
        "from sklearn.metrics import precision_score, recall_score, f1_score, confusion_matrix\n",
        "\n",
        "precision = precision_score(y_test, y_pred)\n",
        "recall = recall_score(y_test, y_pred)\n",
        "f1 = f1_score(y_test, y_pred)\n",
        "\n",
        "tn, fp, fn, tp = confusion_matrix(y_test, y_pred).ravel()\n",
        "specificity = tn / (tn + fp)\n",
        "false_positive_rate = fp / (fp + tn)\n",
        "\n",
        "print(\"precision:\", precision)\n",
        "print(\"recall:\", recall)\n",
        "print(\"F1 score:\", f1)\n",
        "print(\"specificity:\", specificity)\n",
        "print(\"false positive rate:\", false_positive_rate)"
      ],
      "metadata": {
        "id": "tf4qhs54ARBj",
        "colab": {
          "base_uri": "https://localhost:8080/"
        },
        "outputId": "29fb2515-2609-4823-cea4-bc1041043b24"
      },
      "execution_count": null,
      "outputs": [
        {
          "output_type": "stream",
          "name": "stdout",
          "text": [
            "precision: 0.7689075630252101\n",
            "recall: 0.6802973977695167\n",
            "F1 score: 0.7218934911242604\n",
            "specificity: 0.7393364928909952\n",
            "false positive rate: 0.26066350710900477\n"
          ]
        }
      ]
    },
    {
      "cell_type": "markdown",
      "source": [
        "## Q12. (3 points)"
      ],
      "metadata": {
        "id": "yx1Vk-BD7FHV"
      }
    },
    {
      "cell_type": "markdown",
      "source": [
        "Plot the ROC curve."
      ],
      "metadata": {
        "id": "-K23P4zM7E_h"
      }
    },
    {
      "cell_type": "markdown",
      "source": [
        "<img width=\"400\"  src='data:image/svg+xml;base64,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'/>"
      ],
      "metadata": {
        "id": "EDe-Ek1hMrK6"
      }
    },
    {
      "cell_type": "code",
      "source": [
        "from sklearn.metrics import roc_curve\n",
        "fpr, tpr, thresholds = roc_curve(y_test, sgd.decision_function(X_test_scaled))\n",
        "\n",
        "plt.plot(fpr, tpr, label='ROC')\n",
        "plt.plot([0, 1], [0, 1], linestyle='--', label='Random')\n",
        "plt.legend()\n",
        "plt.show()"
      ],
      "metadata": {
        "id": "OXT5AEb-AS9O",
        "colab": {
          "base_uri": "https://localhost:8080/",
          "height": 430
        },
        "outputId": "279af97c-4ee0-426e-b92f-25ee300d2d7d"
      },
      "execution_count": null,
      "outputs": [
        {
          "output_type": "display_data",
          "data": {
            "text/plain": [
              "<Figure size 640x480 with 1 Axes>"
            ],
            "image/png": "[encoded data removed]"
          },
          "metadata": {}
        }
      ]
    },
    {
      "cell_type": "markdown",
      "source": [
        "## Q13. (1 point)"
      ],
      "metadata": {
        "id": "SB6i2pZY7Jzv"
      }
    },
    {
      "cell_type": "markdown",
      "source": [
        "Calculate the AUC (Area Under the Curve)."
      ],
      "metadata": {
        "id": "ZSyU6N4m7Jrm"
      }
    },
    {
      "cell_type": "markdown",
      "source": [
        "You should get a similar result to the following (it does not need to be exactly the same number):\n",
        "\n",
        "0.7965141612200435"
      ],
      "metadata": {
        "id": "_QT6uPdRNE6L"
      }
    },
    {
      "cell_type": "code",
      "source": [
        "from sklearn.metrics import auc\n",
        "roc_auc = auc(fpr, tpr)\n",
        "print(roc_auc)"
      ],
      "metadata": {
        "id": "wz_ZOJbNAVT3",
        "colab": {
          "base_uri": "https://localhost:8080/"
        },
        "outputId": "238b2025-7d4d-43c0-a078-05acd4158aa1"
      },
      "execution_count": null,
      "outputs": [
        {
          "output_type": "stream",
          "name": "stdout",
          "text": [
            "0.7956975986187211\n"
          ]
        }
      ]
    },
    {
      "cell_type": "markdown",
      "source": [
        "## Q14. (3 points)"
      ],
      "metadata": {
        "id": "7hV5n25i7MNu"
      }
    },
    {
      "cell_type": "markdown",
      "source": [
        "Interpret the generated values (the scores) and provide comments on the model's performance. What do you think of the generated model? Is it effective? Discuss possible reasons why the scores might not be higher."
      ],
      "metadata": {
        "id": "Nfn2fZqA7MGD"
      }
    },
    {
      "cell_type": "markdown",
      "source": [
        "The higher precision indicated that the model is correct most of the time. A higher recall indicated that it identifies most positive cases but does miss a significant amount as well. The F-1 score supports this statement as it was also on the higher end. Specificity was in the same range, indicating that not many negatives were missed but still some. False positives indicate that 1/4 of cases were incorrectly identified as positive. The AUC is in line with all of this as being nearly at 0.8 is typically good.\n",
        "\n",
        "Overall, the model is effective as it finds success most of the time. It still makes a non negligible amount of errors so it could use refinement, but it is in the effective range.\n",
        "\n",
        "Some reasons the scores may not be higher are the type of tuning done/not done, noise in the data, or an imbalanced dataset which creates bias in the data."
      ],
      "metadata": {
        "id": "P880fKmz-p8H"
      }
    }
  ],
  "metadata": {
    "kernelspec": {
      "display_name": "Python 3 (ipykernel)",
      "language": "python",
      "name": "python3"
    },
    "language_info": {
      "codemirror_mode": {
        "name": "ipython",
        "version": 3
      },
      "file_extension": ".py",
      "mimetype": "text/x-python",
      "name": "python",
      "nbconvert_exporter": "python",
      "pygments_lexer": "ipython3",
      "version": "3.11.8"
    },
    "colab": {
      "provenance": [],
      "toc_visible": true,
      "include_colab_link": true
    }
  },
  "nbformat": 4,
  "nbformat_minor": 0
}