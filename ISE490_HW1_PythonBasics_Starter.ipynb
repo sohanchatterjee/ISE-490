{
  "cells": [
    {
      "cell_type": "markdown",
      "metadata": {
        "id": "view-in-github",
        "colab_type": "text"
      },
      "source": [
        "<a href=\"https://colab.research.google.com/github/sohanchatterjee/ISE-490/blob/main/ISE490_HW1_PythonBasics_Starter.ipynb\" target=\"_parent\"><img src=\"https://colab.research.google.com/assets/colab-badge.svg\" alt=\"Open In Colab\"/></a>"
      ]
    },
    {
      "cell_type": "markdown",
      "metadata": {
        "collapsed": false,
        "jupyter": {
          "outputs_hidden": false
        },
        "id": "KHUtNSiEBmgB"
      },
      "source": [
        "**Please enter your name and student ID here.**\n",
        "\n",
        "Sohan Chatterjee\n",
        "\n",
        "20006064"
      ]
    },
    {
      "cell_type": "markdown",
      "metadata": {
        "collapsed": false,
        "jupyter": {
          "outputs_hidden": false
        },
        "id": "6ExgBJaHBmgC"
      },
      "source": [
        "\n",
        "\n",
        "**Homework Python Basics**"
      ]
    },
    {
      "cell_type": "markdown",
      "metadata": {
        "collapsed": false,
        "jupyter": {
          "outputs_hidden": false
        },
        "id": "wATKcj5mBmgD"
      },
      "source": [
        "## 1. (1 point). Data types\n",
        "Convert a double to an integer (remove the decimal part).\n",
        "You should get the integer 26."
      ]
    },
    {
      "cell_type": "code",
      "execution_count": null,
      "metadata": {
        "ExecuteTime": {
          "end_time": "2023-06-08T10:11:26.521391Z",
          "start_time": "2023-06-08T10:11:26.506379100Z"
        },
        "jupyter": {
          "outputs_hidden": false
        },
        "id": "zS0oDuVkBmgD"
      },
      "outputs": [],
      "source": [
        "d1 = 26.6999"
      ]
    },
    {
      "cell_type": "code",
      "execution_count": 2,
      "metadata": {
        "jupyter": {
          "outputs_hidden": false
        },
        "id": "fWrlPRrqBmgD",
        "colab": {
          "base_uri": "https://localhost:8080/"
        },
        "outputId": "93f3f8f3-1cf6-4364-95a5-534d4862acc0"
      },
      "outputs": [
        {
          "output_type": "execute_result",
          "data": {
            "text/plain": [
              "26"
            ]
          },
          "metadata": {},
          "execution_count": 2
        }
      ],
      "source": [
        "# Provide your answer here.\n",
        "d1 = 26.6999\n",
        "int(d1)\n"
      ]
    },
    {
      "cell_type": "markdown",
      "metadata": {
        "collapsed": false,
        "jupyter": {
          "outputs_hidden": false
        },
        "id": "OK_H37HcBmgE"
      },
      "source": [
        "## 2. (1 point). Data types\n",
        "Convert a double to an integer (round).\n",
        "You should get the integer 27."
      ]
    },
    {
      "cell_type": "code",
      "execution_count": null,
      "metadata": {
        "jupyter": {
          "outputs_hidden": false
        },
        "id": "4a5U_zZHBmgE"
      },
      "outputs": [],
      "source": [
        "d1=26.6999"
      ]
    },
    {
      "cell_type": "code",
      "execution_count": 3,
      "metadata": {
        "jupyter": {
          "outputs_hidden": false
        },
        "id": "RclfRuKWBmgE",
        "colab": {
          "base_uri": "https://localhost:8080/"
        },
        "outputId": "3df7c8b6-2134-4f06-eda8-b507d752ffbf"
      },
      "outputs": [
        {
          "output_type": "execute_result",
          "data": {
            "text/plain": [
              "27"
            ]
          },
          "metadata": {},
          "execution_count": 3
        }
      ],
      "source": [
        "# Provide your answer here.\n",
        "d1 = 26.6999\n",
        "round(d1)\n"
      ]
    },
    {
      "cell_type": "markdown",
      "metadata": {
        "collapsed": false,
        "jupyter": {
          "outputs_hidden": false
        },
        "id": "vzsLqiUgBmgE"
      },
      "source": [
        "## 3. (1.5 points). Interpolate a string.\n",
        "Interpolate the variable values `age` and `weight` into a string using **f\"{}\"** .\n",
        "You should get a string like this:\n",
        "**\"The age is 20 and the weight is 130.30\"**\n"
      ]
    },
    {
      "cell_type": "code",
      "execution_count": null,
      "metadata": {
        "jupyter": {
          "outputs_hidden": false
        },
        "id": "EDKFqWgIBmgE"
      },
      "outputs": [],
      "source": [
        "age=20\n",
        "weight=130.3"
      ]
    },
    {
      "cell_type": "code",
      "execution_count": 8,
      "metadata": {
        "jupyter": {
          "outputs_hidden": false
        },
        "id": "m1acaze1BmgE",
        "colab": {
          "base_uri": "https://localhost:8080/",
          "height": 36
        },
        "outputId": "e60ea10a-44eb-4b3e-ee00-ed031fd9be4d"
      },
      "outputs": [
        {
          "output_type": "execute_result",
          "data": {
            "text/plain": [
              "'The age is 20 and the weight is 130.30'"
            ],
            "application/vnd.google.colaboratory.intrinsic+json": {
              "type": "string"
            }
          },
          "metadata": {},
          "execution_count": 8
        }
      ],
      "source": [
        "# Provide your answer here.\n",
        "age=20\n",
        "weight=130.3\n",
        "\n",
        "f\"The age is {age} and the weight is {weight:.2f}\""
      ]
    },
    {
      "cell_type": "markdown",
      "metadata": {
        "collapsed": false,
        "jupyter": {
          "outputs_hidden": false
        },
        "id": "xuI0cZI-BmgF"
      },
      "source": [
        "## 4. (2 points). List Comprehension\n",
        "Use list comprehension to create a dictionary list based on the age list. You should get a new list like this:\n",
        "```text\n",
        "[{'age': 23}, {'age': 45}, {'age': 12}, {'age': 26}]\n",
        "```"
      ]
    },
    {
      "cell_type": "code",
      "execution_count": null,
      "metadata": {
        "jupyter": {
          "outputs_hidden": false
        },
        "id": "tNbWyNhXBmgF"
      },
      "outputs": [],
      "source": [
        "ageList=[23,45,12,26]"
      ]
    },
    {
      "cell_type": "code",
      "execution_count": 12,
      "metadata": {
        "jupyter": {
          "outputs_hidden": false
        },
        "id": "ez3pa53KBmgF",
        "colab": {
          "base_uri": "https://localhost:8080/"
        },
        "outputId": "c12d3040-b5b6-4fb8-8533-63f9665cec67"
      },
      "outputs": [
        {
          "output_type": "stream",
          "name": "stdout",
          "text": [
            "[{'age': 23}, {'age': 45}, {'age': 12}, {'age': 26}]\n"
          ]
        }
      ],
      "source": [
        "# Provide your answer here.\n",
        "ageList=[23,45,12,26]\n",
        "ages = [{'age': age} for age in ageList]\n",
        "print(ages)"
      ]
    },
    {
      "cell_type": "markdown",
      "metadata": {
        "collapsed": false,
        "jupyter": {
          "outputs_hidden": false
        },
        "id": "156InGU8BmgF"
      },
      "source": [
        "## 5. (1.5 points). Dictionary\n",
        "Add new fields to the following dictionary `stu` so that you get a new dictionary like this:\n",
        "\n",
        "`{'age': 23, 'name': 'Aiden', 'weight': 136.6}`\n",
        "\n",
        "You should not define a new dictionary `stu` like:\n",
        "\n",
        "`stu = {'age': 23, 'name': 'Aiden', 'weight': 136.6}`\n",
        "\n",
        "You can only add the new fields to the current `stu` dictionary."
      ]
    },
    {
      "cell_type": "code",
      "execution_count": null,
      "metadata": {
        "jupyter": {
          "outputs_hidden": false
        },
        "id": "FCgi28D8BmgF"
      },
      "outputs": [],
      "source": [
        "stu={\"age\":23,}"
      ]
    },
    {
      "cell_type": "code",
      "execution_count": 13,
      "metadata": {
        "jupyter": {
          "outputs_hidden": false
        },
        "id": "5Xni5vMqBmgF",
        "colab": {
          "base_uri": "https://localhost:8080/"
        },
        "outputId": "2d2d879e-ad42-4c5d-cf8a-0ef52a077b10"
      },
      "outputs": [
        {
          "output_type": "stream",
          "name": "stdout",
          "text": [
            "{'age': 23, 'name': 'Aiden', 'weight': 136.6}\n"
          ]
        }
      ],
      "source": [
        "# Provide your answer here.\n",
        "stu={\"age\":23,}\n",
        "stu['name'] = 'Aiden'\n",
        "stu['weight'] = 136.6\n",
        "\n",
        "print(stu)\n"
      ]
    },
    {
      "cell_type": "markdown",
      "metadata": {
        "collapsed": false,
        "jupyter": {
          "outputs_hidden": false
        },
        "id": "eLSc4FNABmgF"
      },
      "source": [
        "## 6. (1 point). Use the `*` operator to create a list like this:\n",
        "[2, 3, 2, 3, 2, 3, 2, 3, 2, 3]\n"
      ]
    },
    {
      "cell_type": "code",
      "execution_count": 14,
      "metadata": {
        "jupyter": {
          "outputs_hidden": false
        },
        "id": "KK0P42g7BmgF",
        "colab": {
          "base_uri": "https://localhost:8080/"
        },
        "outputId": "e02287c3-f476-482f-906b-88d3e65416a1"
      },
      "outputs": [
        {
          "output_type": "stream",
          "name": "stdout",
          "text": [
            "[2, 3, 2, 3, 2, 3, 2, 3, 2, 3]\n"
          ]
        }
      ],
      "source": [
        "# Provide your answer here.\n",
        "result = [2,3]*5\n",
        "print(result)\n"
      ]
    },
    {
      "cell_type": "markdown",
      "metadata": {
        "collapsed": false,
        "jupyter": {
          "outputs_hidden": false
        },
        "id": "TQfUvusRBmgF"
      },
      "source": [
        "## 7. (2 points). Use a `for` loop and `range()` to print out odd numbers from 3 to 100, but skip the numbers 13, 15, 35, 37, and 91.\n",
        "You should get a list of numbers like this:\n",
        "```text\n",
        "3\n",
        "5\n",
        "7\n",
        "9\n",
        "11\n",
        "17\n",
        "19\n",
        "21\n",
        "23\n",
        "25\n",
        "27\n",
        "29\n",
        "31\n",
        "33\n",
        "39\n",
        "41\n",
        "43\n",
        "45\n",
        "47\n",
        "49\n",
        "51\n",
        "53\n",
        "55\n",
        "57\n",
        "59\n",
        "61\n",
        "63\n",
        "65\n",
        "67\n",
        "69\n",
        "71\n",
        "73\n",
        "75\n",
        "77\n",
        "79\n",
        "81\n",
        "83\n",
        "85\n",
        "87\n",
        "89\n",
        "93\n",
        "95\n",
        "97\n",
        "99\n",
        "```"
      ]
    },
    {
      "cell_type": "code",
      "execution_count": 15,
      "metadata": {
        "jupyter": {
          "outputs_hidden": false
        },
        "id": "JcM6dL6eBmgF",
        "colab": {
          "base_uri": "https://localhost:8080/"
        },
        "outputId": "93e9e9dc-c607-4bc8-fbff-6f391361cac8"
      },
      "outputs": [
        {
          "output_type": "stream",
          "name": "stdout",
          "text": [
            "3\n",
            "5\n",
            "7\n",
            "9\n",
            "11\n",
            "17\n",
            "19\n",
            "21\n",
            "23\n",
            "25\n",
            "27\n",
            "29\n",
            "31\n",
            "33\n",
            "39\n",
            "41\n",
            "43\n",
            "45\n",
            "47\n",
            "49\n",
            "51\n",
            "53\n",
            "55\n",
            "57\n",
            "59\n",
            "61\n",
            "63\n",
            "65\n",
            "67\n",
            "69\n",
            "71\n",
            "73\n",
            "75\n",
            "77\n",
            "79\n",
            "81\n",
            "83\n",
            "85\n",
            "87\n",
            "89\n",
            "93\n",
            "95\n",
            "97\n",
            "99\n"
          ]
        }
      ],
      "source": [
        "# Provide your answer here.\n",
        "for num in range(3,101,2):\n",
        "  if num in [13,15,35,37,91]:\n",
        "    continue\n",
        "  print(num)\n",
        "\n"
      ]
    },
    {
      "cell_type": "code",
      "execution_count": null,
      "metadata": {
        "jupyter": {
          "outputs_hidden": false
        },
        "id": "fsXL_Z8gBmgG"
      },
      "outputs": [],
      "source": []
    }
  ],
  "metadata": {
    "kernelspec": {
      "display_name": "Python 3 (ipykernel)",
      "language": "python",
      "name": "python3"
    },
    "language_info": {
      "codemirror_mode": {
        "name": "ipython",
        "version": 3
      },
      "file_extension": ".py",
      "mimetype": "text/x-python",
      "name": "python",
      "nbconvert_exporter": "python",
      "pygments_lexer": "ipython3",
      "version": "3.11.8"
    },
    "colab": {
      "provenance": [],
      "toc_visible": true,
      "include_colab_link": true
    }
  },
  "nbformat": 4,
  "nbformat_minor": 0
}