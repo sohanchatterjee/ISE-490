{
  "cells": [
    {
      "cell_type": "markdown",
      "metadata": {
        "id": "view-in-github",
        "colab_type": "text"
      },
      "source": [
        "<a href=\"https://colab.research.google.com/github/sohanchatterjee/ISE-490/blob/main/Copy_of_EM490_HW3_NumPy_Starter.ipynb\" target=\"_parent\"><img src=\"https://colab.research.google.com/assets/colab-badge.svg\" alt=\"Open In Colab\"/></a>"
      ]
    },
    {
      "cell_type": "markdown",
      "metadata": {
        "collapsed": false,
        "jupyter": {
          "outputs_hidden": false
        },
        "id": "QQtR71FlQnhH"
      },
      "source": [
        "**Please enter your name and student ID here.**\n",
        "\n",
        "Sohan Chatterjee\n",
        "\n",
        "20006064"
      ]
    },
    {
      "cell_type": "markdown",
      "metadata": {
        "id": "gv17iGnYQnhI"
      },
      "source": [
        "**Homework - NumPy**\n",
        "\n",
        "**Use NumPy to solve questions 1-6.**"
      ]
    },
    {
      "cell_type": "markdown",
      "metadata": {
        "id": "n98_aSniQnhI"
      },
      "source": [
        "## 1. (1.0 point)\n",
        "Use `numpy.random.randn()` to generate an array, **a1**, with shape (10, 5) and an array, **a2**, with shape (10, 2)."
      ]
    },
    {
      "cell_type": "code",
      "execution_count": null,
      "metadata": {
        "id": "0yFTu-ljQnhI"
      },
      "outputs": [],
      "source": [
        "# Provide your answer here.\n",
        "import numpy as np\n",
        "a1 = np.random.randn(10,5)\n",
        "a2 = np.random.randn(10,2)"
      ]
    },
    {
      "cell_type": "markdown",
      "metadata": {
        "id": "Tyvzw4OPQnhJ"
      },
      "source": [
        "## 2. (1.0 point)\n",
        "Use `hstack` to horizontally stack **a1** and **a2** to create a new array, **a3**. The shape of **a3** will be (10, 7)."
      ]
    },
    {
      "cell_type": "code",
      "execution_count": null,
      "metadata": {
        "id": "QgcLoqAFQnhJ"
      },
      "outputs": [],
      "source": [
        "# Provide your answer here.\n",
        "import numpy as np\n",
        "a1 = np.random.randn(10,5)\n",
        "a2 = np.random.randn(10,2)\n",
        "a3 = np.hstack((a1,a2))"
      ]
    },
    {
      "cell_type": "markdown",
      "metadata": {
        "id": "9xLEUs_gQnhJ"
      },
      "source": [
        "## 3. (3 points)\n",
        "Calculate the maximum, minimum, and average of each row and each column in **a3**."
      ]
    },
    {
      "cell_type": "code",
      "execution_count": null,
      "metadata": {
        "id": "EBL-y_eeQnhJ"
      },
      "outputs": [],
      "source": [
        "# Provide your answer here.\n",
        "import numpy as np\n",
        "a1 = np.random.randn(10,5)\n",
        "a2 = np.random.randn(10,2)\n",
        "a3 = np.hstack((a1,a2))\n",
        "\n",
        "row_max = np.max(a3, axis=1)\n",
        "row_min = np.min(a3, axis=1)\n",
        "row_mean = np.mean(a3, axis=1)\n",
        "\n",
        "col_max = np.max(a3, axis=0)\n",
        "col_min = np.min(a3, axis=0)\n",
        "col_mean = np.mean(a3, axis=0)"
      ]
    },
    {
      "cell_type": "markdown",
      "metadata": {
        "id": "dBhZKY_qQnhJ"
      },
      "source": [
        "## 4. (1.5 points)\n",
        "\n",
        "Reshape **a3** into a 2 by 35 array."
      ]
    },
    {
      "cell_type": "code",
      "execution_count": null,
      "metadata": {
        "id": "VYWQHAcEQnhJ"
      },
      "outputs": [],
      "source": [
        "# Provide your answer here.\n",
        "import numpy as np\n",
        "a1 = np.random.randn(10,5)\n",
        "a2 = np.random.randn(10,2)\n",
        "a3 = np.hstack((a1,a2))\n",
        "\n",
        "a3 = a3.reshape(2,35)"
      ]
    },
    {
      "cell_type": "markdown",
      "metadata": {
        "id": "jvEEfkeWQnhK"
      },
      "source": [
        "## 5. (1.5 points)\n",
        "\n",
        "Use `ravel()` to make a3 a one-dimensional array"
      ]
    },
    {
      "cell_type": "code",
      "execution_count": null,
      "metadata": {
        "id": "NeM1dFMMQnhK"
      },
      "outputs": [],
      "source": [
        "# Provide your answer here.\n",
        "import numpy as np\n",
        "a1 = np.random.randn(10,5)\n",
        "a2 = np.random.randn(10,2)\n",
        "a3 = np.hstack((a1,a2))\n",
        "\n",
        "a3 = a3.ravel()"
      ]
    },
    {
      "cell_type": "markdown",
      "metadata": {
        "id": "Db_WecDiQnhK"
      },
      "source": [
        "## 6. (2.0 points)\n",
        "\n",
        "Use `linspace()` to create a **1D** array, **a6**, starting from 1 and ending at 20 with 100 points, and then reshape it into a 10 by 10 array."
      ]
    },
    {
      "cell_type": "code",
      "execution_count": null,
      "metadata": {
        "id": "HKsziBvNQnhK"
      },
      "outputs": [],
      "source": [
        "# Provide your answer here.\n",
        "import numpy as np\n",
        "a6 = np.linspace(1,20,100)\n",
        "a6 = a6.reshape(10,10)"
      ]
    }
  ],
  "metadata": {
    "kernelspec": {
      "display_name": "Python 3 (ipykernel)",
      "language": "python",
      "name": "python3"
    },
    "language_info": {
      "codemirror_mode": {
        "name": "ipython",
        "version": 3
      },
      "file_extension": ".py",
      "mimetype": "text/x-python",
      "name": "python",
      "nbconvert_exporter": "python",
      "pygments_lexer": "ipython3",
      "version": "3.11.8"
    },
    "colab": {
      "provenance": [],
      "include_colab_link": true
    }
  },
  "nbformat": 4,
  "nbformat_minor": 0
}